{
 "cells": [
  {
   "cell_type": "code",
   "execution_count": 11,
   "id": "bd5b0d47",
   "metadata": {},
   "outputs": [],
   "source": [
    "import tensorflow as tf\n",
    "import numpy as np \n",
    "import pandas as pd\n",
    "import matplotlib.pyplot as plt\n",
    "from sklearn.model_selection import train_test_split\n",
    "import cv2"
   ]
  },
  {
   "cell_type": "markdown",
   "id": "a7570f55",
   "metadata": {},
   "source": [
    "## To do list\n",
    "1. Add mlp\n",
    "2. run with smaller h_dim and z_dim \n",
    "3. minority class only VAE\n",
    "4. Meeting on monday"
   ]
  },
  {
   "cell_type": "code",
   "execution_count": 12,
   "id": "10553a96",
   "metadata": {},
   "outputs": [],
   "source": [
    "(train_images, train_labels), (test_images,test_labels) = tf.keras.datasets.mnist.load_data()"
   ]
  },
  {
   "cell_type": "code",
   "execution_count": 13,
   "id": "b13d990f",
   "metadata": {},
   "outputs": [
    {
     "data": {
      "text/plain": [
       "(784,)"
      ]
     },
     "execution_count": 13,
     "metadata": {},
     "output_type": "execute_result"
    }
   ],
   "source": [
    "train_images = [np.reshape(x, -1) for x in train_images]\n",
    "test_images= [np.reshape(x, -1) for x in test_images]\n",
    "train_images[0].shape"
   ]
  },
  {
   "cell_type": "code",
   "execution_count": 14,
   "id": "984d7bfa",
   "metadata": {},
   "outputs": [],
   "source": [
    "\n",
    "def group_all_labels(data, num=100, minor=[]):\n",
    "    # this function is to limit the number of labels that are used\n",
    "    # it returns the indexes according the labels\n",
    "    # data is an array of labels\n",
    "    '''\n",
    "\n",
    "    :param data: array of labels\n",
    "    :param num: number required\n",
    "    :param minor: list of minority indexes\n",
    "    :return: array of labels indexes\n",
    "    '''\n",
    "\n",
    "    labels = np.unique(data)\n",
    "    co_l = []\n",
    "    min_col =[]\n",
    "    if not minor:\n",
    "        for l in labels:\n",
    "            el_l = np.where(np.array(data) == l)\n",
    "            co_l.append(el_l[0])\n",
    "\n",
    "    else:\n",
    "        for l in labels:\n",
    "            if l in minor:\n",
    "                el_l = np.where(np.array(data) == l)\n",
    "                co_l.append((el_l[0])[:num])\n",
    "                min_col.append((el_l[0])[:num])\n",
    "            else:\n",
    "                el_l = np.where(np.array(data) == l)\n",
    "                co_l.append(el_l[0])\n",
    "    return co_l, min_col"
   ]
  },
  {
   "cell_type": "code",
   "execution_count": 15,
   "id": "b3dfe126",
   "metadata": {},
   "outputs": [
    {
     "name": "stdout",
     "output_type": "stream",
     "text": [
      "class 0 : number of samples : 2000\n",
      "class 1 : number of samples : 2000\n",
      "class 2 : number of samples : 5958\n",
      "class 3 : number of samples : 6131\n",
      "class 4 : number of samples : 5842\n",
      "class 5 : number of samples : 5421\n",
      "class 6 : number of samples : 5918\n",
      "class 7 : number of samples : 6265\n",
      "class 8 : number of samples : 5851\n",
      "class 9 : number of samples : 5949\n"
     ]
    }
   ],
   "source": [
    "grouped_labels, min_label = group_all_labels(train_labels, 2000, [0, 1])\n",
    "gr_data = []\n",
    "gr_labels = [] \n",
    "for index, q in enumerate(grouped_labels):\n",
    "    print('class {} : number of samples : {}'.format(index,len(q)))\n",
    "    for r in q:\n",
    "        gr_data.append(train_images[r])\n",
    "        gr_labels.append(train_labels[r])\n",
    "\n",
    "gr_min_data = []\n",
    "gr_min_labels = []"
   ]
  },
  {
   "cell_type": "code",
   "execution_count": 16,
   "id": "c9d00e86",
   "metadata": {},
   "outputs": [
    {
     "name": "stdout",
     "output_type": "stream",
     "text": [
      "minority data only\n",
      "class 0 : number of samples : 2000\n",
      "class 1 : number of samples : 2000\n"
     ]
    }
   ],
   "source": [
    "print('minority data only')\n",
    "gr_min_data = []\n",
    "gr_min_labels = []\n",
    "for index, q in enumerate(min_label):\n",
    "    print('class {} : number of samples : {}'.format(index,len(q)))\n",
    "    for r in q:\n",
    "        gr_min_data.append(train_images[r])\n",
    "        gr_min_labels.append(train_labels[r])\n"
   ]
  },
  {
   "cell_type": "code",
   "execution_count": 17,
   "id": "4572ede6",
   "metadata": {},
   "outputs": [
    {
     "name": "stdout",
     "output_type": "stream",
     "text": [
      "[0. 0. 0. 0. 0. 0. 0. 1. 0. 0.]\n"
     ]
    },
    {
     "data": {
      "text/plain": [
       "<matplotlib.image.AxesImage at 0x7faeb591a6d0>"
      ]
     },
     "execution_count": 17,
     "metadata": {},
     "output_type": "execute_result"
    },
    {
     "data": {
      "image/png": "[encoded data removed]",
      "text/plain": [
       "<Figure size 432x288 with 1 Axes>"
      ]
     },
     "metadata": {
      "needs_background": "light"
     },
     "output_type": "display_data"
    }
   ],
   "source": [
    "train_x = np.array(gr_data)\n",
    "train_x = (train_x.astype(np.float32) / 255.0) \n",
    "test_x =  np.array(test_images)\n",
    "test_images = (test_x.astype(np.float32)/255.0)\n",
    "\n",
    "train_min_x = np.array(gr_min_data)\n",
    "train_min_x = (train_min_x.astype(np.float32) / 255.0) \n",
    "\n",
    "train_y = tf.keras.utils.to_categorical(gr_labels, num_classes=10, dtype='float32')\n",
    "test_y = tf.keras.utils.to_categorical(test_labels, num_classes=10, dtype='float32')\n",
    "train_min_y = tf.keras.utils.to_categorical(gr_min_labels, num_classes=2, dtype='float32')\n",
    "\n",
    "print(test_y[0])\n",
    "plt.imshow(np.reshape(test_x[0],(28,28)), cmap=plt.cm.gray_r, interpolation='nearest')"
   ]
  },
  {
   "cell_type": "markdown",
   "id": "5feaee82",
   "metadata": {},
   "source": [
    "# Baseline RF with 1000 samples in class 0 and 1"
   ]
  },
  {
   "cell_type": "code",
   "execution_count": 7,
   "id": "f482d0db",
   "metadata": {},
   "outputs": [
    {
     "name": "stdout",
     "output_type": "stream",
     "text": [
      "              precision    recall  f1-score   support\n",
      "\n",
      "           0       0.00      0.00      0.00       980\n",
      "           1       0.00      0.00      0.00      1135\n",
      "           2       0.56      0.82      0.67      1032\n",
      "           3       0.38      0.78      0.51      1010\n",
      "           4       0.73      0.73      0.73       982\n",
      "           5       0.54      0.11      0.18       892\n",
      "           6       0.63      0.89      0.74       958\n",
      "           7       0.47      0.90      0.62      1028\n",
      "           8       0.64      0.74      0.68       974\n",
      "           9       0.71      0.55      0.62      1009\n",
      "\n",
      "    accuracy                           0.55     10000\n",
      "   macro avg       0.46      0.55      0.47     10000\n",
      "weighted avg       0.46      0.55      0.47     10000\n",
      "\n"
     ]
    },
    {
     "name": "stderr",
     "output_type": "stream",
     "text": [
      "/media/adamu/data/projects/notebooks/UCI_encoders/imbalance_venv/lib/python3.8/site-packages/sklearn/metrics/_classification.py:1248: UndefinedMetricWarning: Precision and F-score are ill-defined and being set to 0.0 in labels with no predicted samples. Use `zero_division` parameter to control this behavior.\n",
      "  _warn_prf(average, modifier, msg_start, len(result))\n",
      "/media/adamu/data/projects/notebooks/UCI_encoders/imbalance_venv/lib/python3.8/site-packages/sklearn/metrics/_classification.py:1248: UndefinedMetricWarning: Precision and F-score are ill-defined and being set to 0.0 in labels with no predicted samples. Use `zero_division` parameter to control this behavior.\n",
      "  _warn_prf(average, modifier, msg_start, len(result))\n",
      "/media/adamu/data/projects/notebooks/UCI_encoders/imbalance_venv/lib/python3.8/site-packages/sklearn/metrics/_classification.py:1248: UndefinedMetricWarning: Precision and F-score are ill-defined and being set to 0.0 in labels with no predicted samples. Use `zero_division` parameter to control this behavior.\n",
      "  _warn_prf(average, modifier, msg_start, len(result))\n"
     ]
    }
   ],
   "source": [
    "from sklearn.ensemble import RandomForestClassifier\n",
    "baseline_rf = RandomForestClassifier(max_depth=2, random_state=0)\n",
    "baseline_rf.fit(train_x, gr_labels)\n",
    "baseline_pred_y = baseline_rf.predict(test_x)\n",
    "from sklearn.metrics import classification_report\n",
    "print(classification_report(test_labels, baseline_pred_y))"
   ]
  },
  {
   "cell_type": "code",
   "execution_count": null,
   "id": "f5cc85f6",
   "metadata": {},
   "outputs": [],
   "source": []
  },
  {
   "cell_type": "markdown",
   "id": "3f223e14",
   "metadata": {},
   "source": [
    "#  VAE Model"
   ]
  },
  {
   "cell_type": "code",
   "execution_count": 18,
   "id": "de0d303c",
   "metadata": {},
   "outputs": [
    {
     "name": "stdout",
     "output_type": "stream",
     "text": [
      "WARNING:tensorflow:From /media/adamu/data/projects/notebooks/UCI_encoders/imbalance_venv/lib/python3.8/site-packages/tensorflow/python/compat/v2_compat.py:101: disable_resource_variables (from tensorflow.python.ops.variable_scope) is deprecated and will be removed in a future version.\n",
      "Instructions for updating:\n",
      "non-resource variables are not supported in the long term\n"
     ]
    },
    {
     "name": "stderr",
     "output_type": "stream",
     "text": [
      "2021-09-27 11:35:48.389993: I tensorflow/stream_executor/cuda/cuda_gpu_executor.cc:937] successful NUMA node read from SysFS had negative value (-1), but there must be at least one NUMA node, so returning NUMA node zero\n",
      "2021-09-27 11:35:48.419872: W tensorflow/stream_executor/platform/default/dso_loader.cc:64] Could not load dynamic library 'libcusolver.so.11'; dlerror: libcusolver.so.11: cannot open shared object file: No such file or directory\n",
      "2021-09-27 11:35:48.423291: W tensorflow/core/common_runtime/gpu/gpu_device.cc:1835] Cannot dlopen some GPU libraries. Please make sure the missing libraries mentioned above are installed properly if you would like to use GPU. Follow the guide at https://www.tensorflow.org/install/gpu for how to download and setup the required libraries for your platform.\n",
      "Skipping registering GPU devices...\n",
      "2021-09-27 11:35:48.424705: I tensorflow/core/platform/cpu_feature_guard.cc:142] This TensorFlow binary is optimized with oneAPI Deep Neural Network Library (oneDNN) to use the following CPU instructions in performance-critical operations:  AVX2 FMA\n",
      "To enable them in other operations, rebuild TensorFlow with the appropriate compiler flags.\n"
     ]
    }
   ],
   "source": [
    "import tensorflow.compat.v1  as tf\n",
    "tf.disable_v2_behavior()\n",
    "from matplotlib import pyplot as plt\n",
    "import matplotlib.gridspec as gridspec\n",
    "import os\n",
    "import numpy as np\n",
    "\n",
    "mb_size = 64\n",
    "z_dim = 100\n",
    "X_dim = 784\n",
    "y_dim = 2\n",
    "h_dim = 128\n",
    "lr = 1e-3\n",
    "\n",
    "\n",
    "def plot(samples, sz, shape):\n",
    "    fig = plt.figure(figsize=(sz, sz))\n",
    "    gs = gridspec.GridSpec(sz, sz)\n",
    "    gs.update(wspace=0.05, hspace=0.05)\n",
    "\n",
    "    for i, sample in enumerate(samples):\n",
    "        ax = plt.subplot(gs[i])\n",
    "        plt.axis('off')\n",
    "        ax.set_xticklabels([])\n",
    "        ax.set_yticklabels([])\n",
    "        ax.set_aspect('equal')\n",
    "        plt.imshow(sample.reshape(shape, shape), cmap='Greys_r')\n",
    "\n",
    "    return fig\n",
    "\n",
    "\n",
    "def xavier_init(size):\n",
    "    in_dim = size[0]\n",
    "    xavier_stddev = 1. / tf.sqrt(in_dim / 2.)\n",
    "    return tf.random.normal(shape=size, stddev=xavier_stddev)\n",
    "\n",
    "\n",
    "# Q(z|X) \n",
    "\n",
    "X = tf.keras.Input(shape=(X_dim,))\n",
    "c = tf.keras.Input(shape=(y_dim,))\n",
    "z = tf.keras.Input(shape=(z_dim,))\n",
    "\n",
    "Q_W1 = tf.Variable(xavier_init([X_dim + y_dim, h_dim]))\n",
    "Q_b1 = tf.Variable(tf.zeros(shape=[h_dim]))\n",
    "\n",
    "Q_W2_mu = tf.Variable(xavier_init([h_dim, z_dim]))\n",
    "Q_b2_mu = tf.Variable(tf.zeros(shape=[z_dim]))\n",
    "\n",
    "Q_W2_sigma = tf.Variable(xavier_init([h_dim, z_dim]))\n",
    "Q_b2_sigma = tf.Variable(tf.zeros(shape=[z_dim]))\n",
    "\n",
    "\n",
    "def Q(X, c):\n",
    "    inputs = tf.concat(axis=1, values=[X, c])\n",
    "    h = tf.nn.relu(tf.matmul(inputs, Q_W1) + Q_b1)\n",
    "    z_mu = tf.matmul(h, Q_W2_mu) + Q_b2_mu\n",
    "    z_logvar = tf.matmul(h, Q_W2_sigma) + Q_b2_sigma\n",
    "    return z_mu, z_logvar\n",
    "\n",
    "\n",
    "def sample_z(mu, log_var):\n",
    "    eps = tf.random.normal(shape=tf.shape(mu))\n",
    "    return mu + tf.exp(log_var / 2) * eps\n",
    "\n",
    "\n",
    "# P(X|z)\n",
    "\n",
    "P_W1 = tf.Variable(xavier_init([z_dim + y_dim, h_dim]))\n",
    "P_b1 = tf.Variable(tf.zeros(shape=[h_dim]))\n",
    "\n",
    "P_W2 = tf.Variable(xavier_init([h_dim, X_dim]))\n",
    "P_b2 = tf.Variable(tf.zeros(shape=[X_dim]))\n",
    "\n",
    "\n",
    "def P(z, c):\n",
    "    inputs = tf.concat(axis=1, values=[z, c])\n",
    "    h = tf.nn.relu(tf.matmul(inputs, P_W1) + P_b1)\n",
    "    logits = tf.matmul(h, P_W2) + P_b2\n",
    "    prob = tf.nn.sigmoid(logits)\n",
    "    return prob, logits\n",
    "\n",
    "z_mu, z_logvar = Q(X, c)\n",
    "z_sample = sample_z(z_mu, z_logvar)\n",
    "_, logits = P(z_sample, c)\n",
    "\n",
    "# Sampling from random z\n",
    "X_samples, _ = P(z, c)\n",
    "\n",
    "# E[log P(X|z)]\n",
    "recon_loss = tf.reduce_sum(tf.nn.sigmoid_cross_entropy_with_logits(logits=logits, labels=X), 1)\n",
    "kl_loss = 0.5 * tf.reduce_sum(tf.exp(z_logvar) + z_mu**2 - 1. - z_logvar, 1)\n",
    "\n",
    "# VAE loss\n",
    "vae_loss = tf.reduce_mean(recon_loss + kl_loss)\n",
    "\n",
    "# gradient step\n",
    "solver = tf.compat.v1.train.AdamOptimizer().minimize(vae_loss)\n",
    "sess = tf.compat.v1.Session ()\n",
    "sess.run(\n",
    "tf.compat.v1.global_variables_initializer())"
   ]
  },
  {
   "cell_type": "code",
   "execution_count": 13,
   "id": "6b9f55e9",
   "metadata": {},
   "outputs": [
    {
     "data": {
      "text/plain": [
       "<matplotlib.image.AxesImage at 0x7f2d8022b880>"
      ]
     },
     "execution_count": 13,
     "metadata": {},
     "output_type": "execute_result"
    },
    {
     "data": {
      "image/png": "[encoded data removed]",
      "text/plain": [
       "<Figure size 432x288 with 1 Axes>"
      ]
     },
     "metadata": {
      "needs_background": "light"
     },
     "output_type": "display_data"
    }
   ],
   "source": [
    "plt.imshow(np.reshape(samples[34],(28,28)), cmap=plt.cm.gray_r, interpolation='nearest')"
   ]
  },
  {
   "cell_type": "code",
   "execution_count": 10,
   "id": "e067b26a",
   "metadata": {},
   "outputs": [
    {
     "name": "stdout",
     "output_type": "stream",
     "text": [
      "(7936, 784)\n",
      "(7936,)\n",
      "0\n"
     ]
    }
   ],
   "source": [
    "samples = []\n",
    "gen_labels =[]\n",
    "for r in range(62):\n",
    "    for index in range(2):\n",
    "        gen_labels = gen_labels + [index]*64\n",
    "        y = np.zeros([mb_size, y_dim])\n",
    "        y[range(mb_size), index] = 1\n",
    "        samples.extend(sess.run(X_samples,\n",
    "                               feed_dict={z: np.random.randn(64, z_dim), c: y}))\n",
    "\n",
    "gen_samples = np.array(samples)\n",
    "gen_labels = np.array(gen_labels)\n",
    "print(gen_samples.shape)\n",
    "print(gen_labels.shape)\n",
    "print(gen_labels[0])"
   ]
  },
  {
   "cell_type": "markdown",
   "id": "aa3351b1",
   "metadata": {},
   "source": [
    "# Adding and classifying with generated samples"
   ]
  },
  {
   "cell_type": "code",
   "execution_count": 17,
   "id": "84952a73",
   "metadata": {},
   "outputs": [
    {
     "data": {
      "image/png": "[encoded data removed]",
      "text/plain": [
       "<Figure size 432x288 with 1 Axes>"
      ]
     },
     "metadata": {
      "needs_background": "light"
     },
     "output_type": "display_data"
    }
   ],
   "source": [
    "plt.imshow(np.reshape(gen_samples[65],(28,28)), cmap=plt.cm.gray_r, interpolation='nearest')\n",
    "#np.save('mnist_gen_data.npy', gen_samples)\n",
    "#np.save('mnist_gen_labels.npy', gen_labels)\n"
   ]
  },
  {
   "cell_type": "code",
   "execution_count": 27,
   "id": "a4c126c8",
   "metadata": {},
   "outputs": [
    {
     "name": "stdout",
     "output_type": "stream",
     "text": [
      "              precision    recall  f1-score   support\n",
      "\n",
      "           0       0.76      0.70      0.73       980\n",
      "           1       0.53      0.28      0.36      1135\n",
      "           2       0.59      0.71      0.64      1032\n",
      "           3       0.45      0.69      0.54      1010\n",
      "           4       0.76      0.51      0.61       982\n",
      "           5       0.88      0.07      0.12       892\n",
      "           6       0.67      0.78      0.72       958\n",
      "           7       0.45      0.89      0.60      1028\n",
      "           8       0.69      0.50      0.58       974\n",
      "           9       0.58      0.62      0.60      1009\n",
      "\n",
      "    accuracy                           0.58     10000\n",
      "   macro avg       0.63      0.58      0.55     10000\n",
      "weighted avg       0.63      0.58      0.55     10000\n",
      "\n"
     ]
    }
   ],
   "source": [
    "X = np.concatenate([train_x, gen_samples])\n",
    "Y = np.concatenate([np.reshape(gr_labels, -1), gen_labels])\n",
    "\n",
    "aug_rf = RandomForestClassifier(max_depth=2, random_state=0)\n",
    "aug_rf.fit(X, Y)\n",
    "aug_pred_y = aug_rf.predict(test_x)\n",
    "print(classification_report(test_labels, aug_pred_y))"
   ]
  },
  {
   "cell_type": "code",
   "execution_count": 30,
   "id": "cfccc2d8",
   "metadata": {},
   "outputs": [],
   "source": [
    "pd_aug = pd.DataFrame(classification_report(test_labels, aug_pred_y, output_dict=True))"
   ]
  },
  {
   "cell_type": "code",
   "execution_count": 32,
   "id": "821d9316",
   "metadata": {},
   "outputs": [
    {
     "data": {
      "text/html": [
       "<div>\n",
       "<style scoped>\n",
       "    .dataframe tbody tr th:only-of-type {\n",
       "        vertical-align: middle;\n",
       "    }\n",
       "\n",
       "    .dataframe tbody tr th {\n",
       "        vertical-align: top;\n",
       "    }\n",
       "\n",
       "    .dataframe thead th {\n",
       "        text-align: right;\n",
       "    }\n",
       "</style>\n",
       "<table border=\"1\" class=\"dataframe\">\n",
       "  <thead>\n",
       "    <tr style=\"text-align: right;\">\n",
       "      <th></th>\n",
       "      <th>precision</th>\n",
       "      <th>recall</th>\n",
       "      <th>f1-score</th>\n",
       "      <th>support</th>\n",
       "    </tr>\n",
       "  </thead>\n",
       "  <tbody>\n",
       "    <tr>\n",
       "      <th>0</th>\n",
       "      <td>0.756608</td>\n",
       "      <td>0.701020</td>\n",
       "      <td>0.727754</td>\n",
       "      <td>980.0000</td>\n",
       "    </tr>\n",
       "    <tr>\n",
       "      <th>1</th>\n",
       "      <td>0.530405</td>\n",
       "      <td>0.276652</td>\n",
       "      <td>0.363636</td>\n",
       "      <td>1135.0000</td>\n",
       "    </tr>\n",
       "    <tr>\n",
       "      <th>2</th>\n",
       "      <td>0.585521</td>\n",
       "      <td>0.713178</td>\n",
       "      <td>0.643076</td>\n",
       "      <td>1032.0000</td>\n",
       "    </tr>\n",
       "    <tr>\n",
       "      <th>3</th>\n",
       "      <td>0.447066</td>\n",
       "      <td>0.694059</td>\n",
       "      <td>0.543832</td>\n",
       "      <td>1010.0000</td>\n",
       "    </tr>\n",
       "    <tr>\n",
       "      <th>4</th>\n",
       "      <td>0.758258</td>\n",
       "      <td>0.514257</td>\n",
       "      <td>0.612864</td>\n",
       "      <td>982.0000</td>\n",
       "    </tr>\n",
       "    <tr>\n",
       "      <th>5</th>\n",
       "      <td>0.878788</td>\n",
       "      <td>0.065022</td>\n",
       "      <td>0.121086</td>\n",
       "      <td>892.0000</td>\n",
       "    </tr>\n",
       "    <tr>\n",
       "      <th>6</th>\n",
       "      <td>0.666369</td>\n",
       "      <td>0.779749</td>\n",
       "      <td>0.718615</td>\n",
       "      <td>958.0000</td>\n",
       "    </tr>\n",
       "    <tr>\n",
       "      <th>7</th>\n",
       "      <td>0.450442</td>\n",
       "      <td>0.892996</td>\n",
       "      <td>0.598826</td>\n",
       "      <td>1028.0000</td>\n",
       "    </tr>\n",
       "    <tr>\n",
       "      <th>8</th>\n",
       "      <td>0.694286</td>\n",
       "      <td>0.498973</td>\n",
       "      <td>0.580645</td>\n",
       "      <td>974.0000</td>\n",
       "    </tr>\n",
       "    <tr>\n",
       "      <th>9</th>\n",
       "      <td>0.575646</td>\n",
       "      <td>0.618434</td>\n",
       "      <td>0.596273</td>\n",
       "      <td>1009.0000</td>\n",
       "    </tr>\n",
       "    <tr>\n",
       "      <th>accuracy</th>\n",
       "      <td>0.577600</td>\n",
       "      <td>0.577600</td>\n",
       "      <td>0.577600</td>\n",
       "      <td>0.5776</td>\n",
       "    </tr>\n",
       "    <tr>\n",
       "      <th>macro avg</th>\n",
       "      <td>0.634339</td>\n",
       "      <td>0.575434</td>\n",
       "      <td>0.550661</td>\n",
       "      <td>10000.0000</td>\n",
       "    </tr>\n",
       "    <tr>\n",
       "      <th>weighted avg</th>\n",
       "      <td>0.628627</td>\n",
       "      <td>0.577600</td>\n",
       "      <td>0.551991</td>\n",
       "      <td>10000.0000</td>\n",
       "    </tr>\n",
       "  </tbody>\n",
       "</table>\n",
       "</div>"
      ],
      "text/plain": [
       "              precision    recall  f1-score     support\n",
       "0              0.756608  0.701020  0.727754    980.0000\n",
       "1              0.530405  0.276652  0.363636   1135.0000\n",
       "2              0.585521  0.713178  0.643076   1032.0000\n",
       "3              0.447066  0.694059  0.543832   1010.0000\n",
       "4              0.758258  0.514257  0.612864    982.0000\n",
       "5              0.878788  0.065022  0.121086    892.0000\n",
       "6              0.666369  0.779749  0.718615    958.0000\n",
       "7              0.450442  0.892996  0.598826   1028.0000\n",
       "8              0.694286  0.498973  0.580645    974.0000\n",
       "9              0.575646  0.618434  0.596273   1009.0000\n",
       "accuracy       0.577600  0.577600  0.577600      0.5776\n",
       "macro avg      0.634339  0.575434  0.550661  10000.0000\n",
       "weighted avg   0.628627  0.577600  0.551991  10000.0000"
      ]
     },
     "execution_count": 32,
     "metadata": {},
     "output_type": "execute_result"
    }
   ],
   "source": [
    "pd_aug.transpose()"
   ]
  },
  {
   "cell_type": "code",
   "execution_count": 33,
   "id": "3bcc3991",
   "metadata": {},
   "outputs": [
    {
     "name": "stderr",
     "output_type": "stream",
     "text": [
      "/media/adamu/data/projects/notebooks/UCI_encoders/imbalance_venv/lib/python3.8/site-packages/sklearn/metrics/_classification.py:1248: UndefinedMetricWarning: Precision and F-score are ill-defined and being set to 0.0 in labels with no predicted samples. Use `zero_division` parameter to control this behavior.\n",
      "  _warn_prf(average, modifier, msg_start, len(result))\n",
      "/media/adamu/data/projects/notebooks/UCI_encoders/imbalance_venv/lib/python3.8/site-packages/sklearn/metrics/_classification.py:1248: UndefinedMetricWarning: Precision and F-score are ill-defined and being set to 0.0 in labels with no predicted samples. Use `zero_division` parameter to control this behavior.\n",
      "  _warn_prf(average, modifier, msg_start, len(result))\n",
      "/media/adamu/data/projects/notebooks/UCI_encoders/imbalance_venv/lib/python3.8/site-packages/sklearn/metrics/_classification.py:1248: UndefinedMetricWarning: Precision and F-score are ill-defined and being set to 0.0 in labels with no predicted samples. Use `zero_division` parameter to control this behavior.\n",
      "  _warn_prf(average, modifier, msg_start, len(result))\n"
     ]
    },
    {
     "data": {
      "text/html": [
       "<div>\n",
       "<style scoped>\n",
       "    .dataframe tbody tr th:only-of-type {\n",
       "        vertical-align: middle;\n",
       "    }\n",
       "\n",
       "    .dataframe tbody tr th {\n",
       "        vertical-align: top;\n",
       "    }\n",
       "\n",
       "    .dataframe thead th {\n",
       "        text-align: right;\n",
       "    }\n",
       "</style>\n",
       "<table border=\"1\" class=\"dataframe\">\n",
       "  <thead>\n",
       "    <tr style=\"text-align: right;\">\n",
       "      <th></th>\n",
       "      <th>precision</th>\n",
       "      <th>recall</th>\n",
       "      <th>f1-score</th>\n",
       "      <th>support</th>\n",
       "    </tr>\n",
       "  </thead>\n",
       "  <tbody>\n",
       "    <tr>\n",
       "      <th>0</th>\n",
       "      <td>0.000000</td>\n",
       "      <td>0.000000</td>\n",
       "      <td>0.000000</td>\n",
       "      <td>980.0000</td>\n",
       "    </tr>\n",
       "    <tr>\n",
       "      <th>1</th>\n",
       "      <td>0.000000</td>\n",
       "      <td>0.000000</td>\n",
       "      <td>0.000000</td>\n",
       "      <td>1135.0000</td>\n",
       "    </tr>\n",
       "    <tr>\n",
       "      <th>2</th>\n",
       "      <td>0.558998</td>\n",
       "      <td>0.821705</td>\n",
       "      <td>0.665359</td>\n",
       "      <td>1032.0000</td>\n",
       "    </tr>\n",
       "    <tr>\n",
       "      <th>3</th>\n",
       "      <td>0.376853</td>\n",
       "      <td>0.780198</td>\n",
       "      <td>0.508223</td>\n",
       "      <td>1010.0000</td>\n",
       "    </tr>\n",
       "    <tr>\n",
       "      <th>4</th>\n",
       "      <td>0.734694</td>\n",
       "      <td>0.733198</td>\n",
       "      <td>0.733945</td>\n",
       "      <td>982.0000</td>\n",
       "    </tr>\n",
       "    <tr>\n",
       "      <th>5</th>\n",
       "      <td>0.540230</td>\n",
       "      <td>0.105381</td>\n",
       "      <td>0.176360</td>\n",
       "      <td>892.0000</td>\n",
       "    </tr>\n",
       "    <tr>\n",
       "      <th>6</th>\n",
       "      <td>0.627941</td>\n",
       "      <td>0.891441</td>\n",
       "      <td>0.736842</td>\n",
       "      <td>958.0000</td>\n",
       "    </tr>\n",
       "    <tr>\n",
       "      <th>7</th>\n",
       "      <td>0.468464</td>\n",
       "      <td>0.895914</td>\n",
       "      <td>0.615230</td>\n",
       "      <td>1028.0000</td>\n",
       "    </tr>\n",
       "    <tr>\n",
       "      <th>8</th>\n",
       "      <td>0.635961</td>\n",
       "      <td>0.737166</td>\n",
       "      <td>0.682834</td>\n",
       "      <td>974.0000</td>\n",
       "    </tr>\n",
       "    <tr>\n",
       "      <th>9</th>\n",
       "      <td>0.706258</td>\n",
       "      <td>0.548067</td>\n",
       "      <td>0.617188</td>\n",
       "      <td>1009.0000</td>\n",
       "    </tr>\n",
       "    <tr>\n",
       "      <th>accuracy</th>\n",
       "      <td>0.549600</td>\n",
       "      <td>0.549600</td>\n",
       "      <td>0.549600</td>\n",
       "      <td>0.5496</td>\n",
       "    </tr>\n",
       "    <tr>\n",
       "      <th>macro avg</th>\n",
       "      <td>0.464940</td>\n",
       "      <td>0.551307</td>\n",
       "      <td>0.473598</td>\n",
       "      <td>10000.0000</td>\n",
       "    </tr>\n",
       "    <tr>\n",
       "      <th>weighted avg</th>\n",
       "      <td>0.457605</td>\n",
       "      <td>0.549600</td>\n",
       "      <td>0.470418</td>\n",
       "      <td>10000.0000</td>\n",
       "    </tr>\n",
       "  </tbody>\n",
       "</table>\n",
       "</div>"
      ],
      "text/plain": [
       "              precision    recall  f1-score     support\n",
       "0              0.000000  0.000000  0.000000    980.0000\n",
       "1              0.000000  0.000000  0.000000   1135.0000\n",
       "2              0.558998  0.821705  0.665359   1032.0000\n",
       "3              0.376853  0.780198  0.508223   1010.0000\n",
       "4              0.734694  0.733198  0.733945    982.0000\n",
       "5              0.540230  0.105381  0.176360    892.0000\n",
       "6              0.627941  0.891441  0.736842    958.0000\n",
       "7              0.468464  0.895914  0.615230   1028.0000\n",
       "8              0.635961  0.737166  0.682834    974.0000\n",
       "9              0.706258  0.548067  0.617188   1009.0000\n",
       "accuracy       0.549600  0.549600  0.549600      0.5496\n",
       "macro avg      0.464940  0.551307  0.473598  10000.0000\n",
       "weighted avg   0.457605  0.549600  0.470418  10000.0000"
      ]
     },
     "execution_count": 33,
     "metadata": {},
     "output_type": "execute_result"
    }
   ],
   "source": [
    "pd_orig = pd.DataFrame(classification_report(test_labels, baseline_pred_y, output_dict=True))\n",
    "pd_orig.transpose()"
   ]
  },
  {
   "cell_type": "code",
   "execution_count": 34,
   "id": "b02c7c79",
   "metadata": {},
   "outputs": [],
   "source": [
    "combined_pd = pd.merge(pd_orig.transpose(), pd_aug.transpose(), left_index=True, right_index=True)"
   ]
  },
  {
   "cell_type": "code",
   "execution_count": 35,
   "id": "c9cc7be4",
   "metadata": {},
   "outputs": [
    {
     "data": {
      "text/html": [
       "<div>\n",
       "<style scoped>\n",
       "    .dataframe tbody tr th:only-of-type {\n",
       "        vertical-align: middle;\n",
       "    }\n",
       "\n",
       "    .dataframe tbody tr th {\n",
       "        vertical-align: top;\n",
       "    }\n",
       "\n",
       "    .dataframe thead th {\n",
       "        text-align: right;\n",
       "    }\n",
       "</style>\n",
       "<table border=\"1\" class=\"dataframe\">\n",
       "  <thead>\n",
       "    <tr style=\"text-align: right;\">\n",
       "      <th></th>\n",
       "      <th>precision_x</th>\n",
       "      <th>recall_x</th>\n",
       "      <th>f1-score_x</th>\n",
       "      <th>support_x</th>\n",
       "      <th>precision_y</th>\n",
       "      <th>recall_y</th>\n",
       "      <th>f1-score_y</th>\n",
       "      <th>support_y</th>\n",
       "    </tr>\n",
       "  </thead>\n",
       "  <tbody>\n",
       "    <tr>\n",
       "      <th>0</th>\n",
       "      <td>0.000000</td>\n",
       "      <td>0.000000</td>\n",
       "      <td>0.000000</td>\n",
       "      <td>980.0000</td>\n",
       "      <td>0.756608</td>\n",
       "      <td>0.701020</td>\n",
       "      <td>0.727754</td>\n",
       "      <td>980.0000</td>\n",
       "    </tr>\n",
       "    <tr>\n",
       "      <th>1</th>\n",
       "      <td>0.000000</td>\n",
       "      <td>0.000000</td>\n",
       "      <td>0.000000</td>\n",
       "      <td>1135.0000</td>\n",
       "      <td>0.530405</td>\n",
       "      <td>0.276652</td>\n",
       "      <td>0.363636</td>\n",
       "      <td>1135.0000</td>\n",
       "    </tr>\n",
       "    <tr>\n",
       "      <th>2</th>\n",
       "      <td>0.558998</td>\n",
       "      <td>0.821705</td>\n",
       "      <td>0.665359</td>\n",
       "      <td>1032.0000</td>\n",
       "      <td>0.585521</td>\n",
       "      <td>0.713178</td>\n",
       "      <td>0.643076</td>\n",
       "      <td>1032.0000</td>\n",
       "    </tr>\n",
       "    <tr>\n",
       "      <th>3</th>\n",
       "      <td>0.376853</td>\n",
       "      <td>0.780198</td>\n",
       "      <td>0.508223</td>\n",
       "      <td>1010.0000</td>\n",
       "      <td>0.447066</td>\n",
       "      <td>0.694059</td>\n",
       "      <td>0.543832</td>\n",
       "      <td>1010.0000</td>\n",
       "    </tr>\n",
       "    <tr>\n",
       "      <th>4</th>\n",
       "      <td>0.734694</td>\n",
       "      <td>0.733198</td>\n",
       "      <td>0.733945</td>\n",
       "      <td>982.0000</td>\n",
       "      <td>0.758258</td>\n",
       "      <td>0.514257</td>\n",
       "      <td>0.612864</td>\n",
       "      <td>982.0000</td>\n",
       "    </tr>\n",
       "    <tr>\n",
       "      <th>5</th>\n",
       "      <td>0.540230</td>\n",
       "      <td>0.105381</td>\n",
       "      <td>0.176360</td>\n",
       "      <td>892.0000</td>\n",
       "      <td>0.878788</td>\n",
       "      <td>0.065022</td>\n",
       "      <td>0.121086</td>\n",
       "      <td>892.0000</td>\n",
       "    </tr>\n",
       "    <tr>\n",
       "      <th>6</th>\n",
       "      <td>0.627941</td>\n",
       "      <td>0.891441</td>\n",
       "      <td>0.736842</td>\n",
       "      <td>958.0000</td>\n",
       "      <td>0.666369</td>\n",
       "      <td>0.779749</td>\n",
       "      <td>0.718615</td>\n",
       "      <td>958.0000</td>\n",
       "    </tr>\n",
       "    <tr>\n",
       "      <th>7</th>\n",
       "      <td>0.468464</td>\n",
       "      <td>0.895914</td>\n",
       "      <td>0.615230</td>\n",
       "      <td>1028.0000</td>\n",
       "      <td>0.450442</td>\n",
       "      <td>0.892996</td>\n",
       "      <td>0.598826</td>\n",
       "      <td>1028.0000</td>\n",
       "    </tr>\n",
       "    <tr>\n",
       "      <th>8</th>\n",
       "      <td>0.635961</td>\n",
       "      <td>0.737166</td>\n",
       "      <td>0.682834</td>\n",
       "      <td>974.0000</td>\n",
       "      <td>0.694286</td>\n",
       "      <td>0.498973</td>\n",
       "      <td>0.580645</td>\n",
       "      <td>974.0000</td>\n",
       "    </tr>\n",
       "    <tr>\n",
       "      <th>9</th>\n",
       "      <td>0.706258</td>\n",
       "      <td>0.548067</td>\n",
       "      <td>0.617188</td>\n",
       "      <td>1009.0000</td>\n",
       "      <td>0.575646</td>\n",
       "      <td>0.618434</td>\n",
       "      <td>0.596273</td>\n",
       "      <td>1009.0000</td>\n",
       "    </tr>\n",
       "    <tr>\n",
       "      <th>accuracy</th>\n",
       "      <td>0.549600</td>\n",
       "      <td>0.549600</td>\n",
       "      <td>0.549600</td>\n",
       "      <td>0.5496</td>\n",
       "      <td>0.577600</td>\n",
       "      <td>0.577600</td>\n",
       "      <td>0.577600</td>\n",
       "      <td>0.5776</td>\n",
       "    </tr>\n",
       "    <tr>\n",
       "      <th>macro avg</th>\n",
       "      <td>0.464940</td>\n",
       "      <td>0.551307</td>\n",
       "      <td>0.473598</td>\n",
       "      <td>10000.0000</td>\n",
       "      <td>0.634339</td>\n",
       "      <td>0.575434</td>\n",
       "      <td>0.550661</td>\n",
       "      <td>10000.0000</td>\n",
       "    </tr>\n",
       "    <tr>\n",
       "      <th>weighted avg</th>\n",
       "      <td>0.457605</td>\n",
       "      <td>0.549600</td>\n",
       "      <td>0.470418</td>\n",
       "      <td>10000.0000</td>\n",
       "      <td>0.628627</td>\n",
       "      <td>0.577600</td>\n",
       "      <td>0.551991</td>\n",
       "      <td>10000.0000</td>\n",
       "    </tr>\n",
       "  </tbody>\n",
       "</table>\n",
       "</div>"
      ],
      "text/plain": [
       "              precision_x  recall_x  f1-score_x   support_x  precision_y  \\\n",
       "0                0.000000  0.000000    0.000000    980.0000     0.756608   \n",
       "1                0.000000  0.000000    0.000000   1135.0000     0.530405   \n",
       "2                0.558998  0.821705    0.665359   1032.0000     0.585521   \n",
       "3                0.376853  0.780198    0.508223   1010.0000     0.447066   \n",
       "4                0.734694  0.733198    0.733945    982.0000     0.758258   \n",
       "5                0.540230  0.105381    0.176360    892.0000     0.878788   \n",
       "6                0.627941  0.891441    0.736842    958.0000     0.666369   \n",
       "7                0.468464  0.895914    0.615230   1028.0000     0.450442   \n",
       "8                0.635961  0.737166    0.682834    974.0000     0.694286   \n",
       "9                0.706258  0.548067    0.617188   1009.0000     0.575646   \n",
       "accuracy         0.549600  0.549600    0.549600      0.5496     0.577600   \n",
       "macro avg        0.464940  0.551307    0.473598  10000.0000     0.634339   \n",
       "weighted avg     0.457605  0.549600    0.470418  10000.0000     0.628627   \n",
       "\n",
       "              recall_y  f1-score_y   support_y  \n",
       "0             0.701020    0.727754    980.0000  \n",
       "1             0.276652    0.363636   1135.0000  \n",
       "2             0.713178    0.643076   1032.0000  \n",
       "3             0.694059    0.543832   1010.0000  \n",
       "4             0.514257    0.612864    982.0000  \n",
       "5             0.065022    0.121086    892.0000  \n",
       "6             0.779749    0.718615    958.0000  \n",
       "7             0.892996    0.598826   1028.0000  \n",
       "8             0.498973    0.580645    974.0000  \n",
       "9             0.618434    0.596273   1009.0000  \n",
       "accuracy      0.577600    0.577600      0.5776  \n",
       "macro avg     0.575434    0.550661  10000.0000  \n",
       "weighted avg  0.577600    0.551991  10000.0000  "
      ]
     },
     "execution_count": 35,
     "metadata": {},
     "output_type": "execute_result"
    }
   ],
   "source": [
    "combined_pd"
   ]
  },
  {
   "cell_type": "markdown",
   "id": "d3242bff",
   "metadata": {},
   "source": [
    "# MLP Experiment "
   ]
  },
  {
   "cell_type": "code",
   "execution_count": 21,
   "id": "33a02274",
   "metadata": {},
   "outputs": [],
   "source": [
    "from tensorflow.keras.layers import Dense, BatchNormalization, Dropout, Input, Flatten\n",
    "from tensorflow.keras.models import Sequential\n",
    "\n",
    "def build_model(input_shape=(784,), num_classes=10):\n",
    "    \"\"\"\n",
    "\n",
    "    :param input_shape: shape of input_data\n",
    "    :param num_classes: number of classes\n",
    "    :return: keras.model.sequential compiled with categorical cross-entropy loss\n",
    "    \"\"\"\n",
    "    model = Sequential([\n",
    "        Input(shape=input_shape),\n",
    "        Dense(32, activation=\"relu\"),\n",
    "        BatchNormalization(),\n",
    "        Dense(64, activation=\"relu\"),\n",
    "        BatchNormalization(),\n",
    "        Flatten(),\n",
    "        Dropout(0.5),\n",
    "        Dense(num_classes, activation=\"softmax\"),\n",
    "    ])\n",
    "\n",
    "    model.compile(loss=\"categorical_crossentropy\", optimizer=\"adam\", metrics=[\"accuracy\"])\n",
    "    model.summary()\n",
    "    return model"
   ]
  },
  {
   "cell_type": "code",
   "execution_count": 22,
   "id": "710c796a",
   "metadata": {},
   "outputs": [
    {
     "name": "stdout",
     "output_type": "stream",
     "text": [
      "WARNING:tensorflow:From /media/adamu/data/projects/notebooks/UCI_encoders/imbalance_venv/lib/python3.8/site-packages/keras/layers/normalization/batch_normalization.py:520: _colocate_with (from tensorflow.python.framework.ops) is deprecated and will be removed in a future version.\n",
      "Instructions for updating:\n",
      "Colocations handled automatically by placer.\n",
      "Model: \"sequential\"\n",
      "_________________________________________________________________\n",
      "Layer (type)                 Output Shape              Param #   \n",
      "=================================================================\n",
      "dense (Dense)                (None, 32)                25120     \n",
      "_________________________________________________________________\n",
      "batch_normalization (BatchNo (None, 32)                128       \n",
      "_________________________________________________________________\n",
      "dense_1 (Dense)              (None, 64)                2112      \n",
      "_________________________________________________________________\n",
      "batch_normalization_1 (Batch (None, 64)                256       \n",
      "_________________________________________________________________\n",
      "flatten (Flatten)            (None, 64)                0         \n",
      "_________________________________________________________________\n",
      "dropout (Dropout)            (None, 64)                0         \n",
      "_________________________________________________________________\n",
      "dense_2 (Dense)              (None, 10)                650       \n",
      "=================================================================\n",
      "Total params: 28,266\n",
      "Trainable params: 28,074\n",
      "Non-trainable params: 192\n",
      "_________________________________________________________________\n",
      "Train on 51335 samples, validate on 10000 samples\n",
      "Epoch 1/30\n",
      "51335/51335 [==============================] - 2s 38us/sample - loss: 0.5916 - acc: 0.8227 - val_loss: 0.2278 - val_acc: 0.9324\n",
      "Epoch 2/30\n",
      "   64/51335 [..............................] - ETA: 2s - loss: 0.4283 - acc: 0.8281"
     ]
    },
    {
     "name": "stderr",
     "output_type": "stream",
     "text": [
      "/media/adamu/data/projects/notebooks/UCI_encoders/imbalance_venv/lib/python3.8/site-packages/keras/engine/training.py:2470: UserWarning: `Model.state_updates` will be removed in a future version. This property should not be used in TensorFlow 2.0, as `updates` are applied automatically.\n",
      "  warnings.warn('`Model.state_updates` will be removed in a future version. '\n"
     ]
    },
    {
     "name": "stdout",
     "output_type": "stream",
     "text": [
      "51335/51335 [==============================] - 2s 30us/sample - loss: 0.2896 - acc: 0.9168 - val_loss: 0.1747 - val_acc: 0.9486\n",
      "Epoch 3/30\n",
      "51335/51335 [==============================] - 2s 30us/sample - loss: 0.2407 - acc: 0.9310 - val_loss: 0.1593 - val_acc: 0.9515\n",
      "Epoch 4/30\n",
      "51335/51335 [==============================] - 2s 29us/sample - loss: 0.2100 - acc: 0.9392 - val_loss: 0.1410 - val_acc: 0.9578\n",
      "Epoch 5/30\n",
      "51335/51335 [==============================] - 2s 33us/sample - loss: 0.1822 - acc: 0.9469 - val_loss: 0.1374 - val_acc: 0.9588\n",
      "Epoch 6/30\n",
      "51335/51335 [==============================] - 2s 30us/sample - loss: 0.1667 - acc: 0.9505 - val_loss: 0.1327 - val_acc: 0.9586\n",
      "Epoch 7/30\n",
      "51335/51335 [==============================] - 2s 30us/sample - loss: 0.1542 - acc: 0.9540 - val_loss: 0.1151 - val_acc: 0.9654\n",
      "Epoch 8/30\n",
      "51335/51335 [==============================] - 2s 30us/sample - loss: 0.1457 - acc: 0.9565 - val_loss: 0.1238 - val_acc: 0.9625\n",
      "Epoch 9/30\n",
      "51335/51335 [==============================] - 2s 32us/sample - loss: 0.1366 - acc: 0.9587 - val_loss: 0.1219 - val_acc: 0.9630\n",
      "Epoch 10/30\n",
      "51335/51335 [==============================] - 2s 30us/sample - loss: 0.1349 - acc: 0.9598 - val_loss: 0.1155 - val_acc: 0.9661\n",
      "Epoch 11/30\n",
      "51335/51335 [==============================] - 2s 30us/sample - loss: 0.1276 - acc: 0.9620 - val_loss: 0.1123 - val_acc: 0.9663\n",
      "Epoch 12/30\n",
      "51335/51335 [==============================] - 2s 30us/sample - loss: 0.1244 - acc: 0.9622 - val_loss: 0.1173 - val_acc: 0.9659\n",
      "Epoch 13/30\n",
      "51335/51335 [==============================] - 2s 32us/sample - loss: 0.1166 - acc: 0.9644 - val_loss: 0.1099 - val_acc: 0.9678\n",
      "Epoch 14/30\n",
      "51335/51335 [==============================] - 2s 30us/sample - loss: 0.1154 - acc: 0.9647 - val_loss: 0.1124 - val_acc: 0.9684\n",
      "Epoch 15/30\n",
      "51335/51335 [==============================] - 2s 33us/sample - loss: 0.1080 - acc: 0.9677 - val_loss: 0.1037 - val_acc: 0.9689\n",
      "Epoch 16/30\n",
      "51335/51335 [==============================] - 2s 34us/sample - loss: 0.1059 - acc: 0.9674 - val_loss: 0.1092 - val_acc: 0.9688\n",
      "Epoch 17/30\n",
      "51335/51335 [==============================] - 2s 34us/sample - loss: 0.1044 - acc: 0.9671 - val_loss: 0.1075 - val_acc: 0.9679\n",
      "Epoch 18/30\n",
      "51335/51335 [==============================] - 2s 34us/sample - loss: 0.1018 - acc: 0.9687 - val_loss: 0.1085 - val_acc: 0.9693\n",
      "Epoch 19/30\n",
      "51335/51335 [==============================] - 2s 35us/sample - loss: 0.1017 - acc: 0.9697 - val_loss: 0.1025 - val_acc: 0.9696\n",
      "Epoch 20/30\n",
      "51335/51335 [==============================] - 2s 34us/sample - loss: 0.0975 - acc: 0.9694 - val_loss: 0.1072 - val_acc: 0.9697\n",
      "Epoch 21/30\n",
      "51335/51335 [==============================] - 2s 35us/sample - loss: 0.0911 - acc: 0.9713 - val_loss: 0.1082 - val_acc: 0.9704\n",
      "Epoch 22/30\n",
      "51335/51335 [==============================] - 2s 33us/sample - loss: 0.0930 - acc: 0.9708 - val_loss: 0.1020 - val_acc: 0.9689\n",
      "Epoch 23/30\n",
      "51335/51335 [==============================] - 2s 33us/sample - loss: 0.0942 - acc: 0.9711 - val_loss: 0.1037 - val_acc: 0.9701\n",
      "Epoch 24/30\n",
      "51335/51335 [==============================] - 2s 34us/sample - loss: 0.0865 - acc: 0.9728 - val_loss: 0.1002 - val_acc: 0.9722\n",
      "Epoch 25/30\n",
      "51335/51335 [==============================] - 2s 36us/sample - loss: 0.0860 - acc: 0.9740 - val_loss: 0.1112 - val_acc: 0.9680\n",
      "Epoch 26/30\n",
      "51335/51335 [==============================] - 2s 36us/sample - loss: 0.0912 - acc: 0.9715 - val_loss: 0.1132 - val_acc: 0.9689\n",
      "Epoch 27/30\n",
      "51335/51335 [==============================] - 2s 36us/sample - loss: 0.0839 - acc: 0.9744 - val_loss: 0.1053 - val_acc: 0.9724\n",
      "Epoch 28/30\n",
      "51335/51335 [==============================] - 2s 33us/sample - loss: 0.0842 - acc: 0.9740 - val_loss: 0.1073 - val_acc: 0.9704\n",
      "Epoch 29/30\n",
      "51335/51335 [==============================] - 2s 35us/sample - loss: 0.0833 - acc: 0.9744 - val_loss: 0.1035 - val_acc: 0.9714\n",
      "Epoch 30/30\n",
      "51335/51335 [==============================] - 2s 34us/sample - loss: 0.0797 - acc: 0.9756 - val_loss: 0.1067 - val_acc: 0.9703\n",
      "test loss:  0.10673737617266597\n",
      "test accuracy:  0.9703\n"
     ]
    }
   ],
   "source": [
    "bl_model = build_model()\n",
    "batch_size=64\n",
    "epochs=30\n",
    "bl_history = bl_model.fit(train_x, train_y, batch_size=batch_size,\n",
    "                    epochs=epochs, validation_data=(test_images, test_y))\n",
    "\n",
    "bl_score = bl_model.evaluate(test_images, test_y, verbose=0)\n",
    "print('test loss: ', bl_score[0])\n",
    "print('test accuracy: ', bl_score[1] )"
   ]
  },
  {
   "cell_type": "code",
   "execution_count": 23,
   "id": "a6c45bc3",
   "metadata": {},
   "outputs": [
    {
     "name": "stdout",
     "output_type": "stream",
     "text": [
      "dict_keys(['loss', 'acc', 'val_loss', 'val_acc'])\n"
     ]
    },
    {
     "data": {
      "image/png": "[encoded data removed]",
      "text/plain": [
       "<Figure size 432x288 with 1 Axes>"
      ]
     },
     "metadata": {
      "needs_background": "light"
     },
     "output_type": "display_data"
    },
    {
     "data": {
      "image/png": "[encoded data removed]",
      "text/plain": [
       "<Figure size 432x288 with 1 Axes>"
      ]
     },
     "metadata": {
      "needs_background": "light"
     },
     "output_type": "display_data"
    }
   ],
   "source": [
    "print(bl_history.history.keys())\n",
    "plt.plot(bl_history.history['acc'])\n",
    "plt.plot(bl_history.history['val_acc'])\n",
    "plt.title('model accuracy')\n",
    "plt.ylabel('accuracy')\n",
    "plt.xlabel('epoch')\n",
    "plt.legend(['train', 'test'], loc='upper left')\n",
    "plt.show()\n",
    "plt.plot(bl_history.history['loss'])\n",
    "plt.plot(bl_history.history['val_loss'])\n",
    "plt.title('model loss')\n",
    "plt.ylabel('loss')\n",
    "plt.xlabel('epoch')\n",
    "plt.legend(['train', 'test'], loc='upper left')\n",
    "plt.show()"
   ]
  },
  {
   "cell_type": "code",
   "execution_count": 27,
   "id": "e6843b1e",
   "metadata": {},
   "outputs": [
    {
     "name": "stdout",
     "output_type": "stream",
     "text": [
      "MLP classification baseline\n",
      "               precision    recall  f1-score   support\n",
      "\n",
      "           0       0.98      0.98      0.98       980\n",
      "           1       0.99      0.98      0.98      1135\n",
      "           2       0.98      0.95      0.96      1032\n",
      "           3       0.97      0.97      0.97      1010\n",
      "           4       0.96      0.97      0.96       982\n",
      "           5       0.98      0.97      0.97       892\n",
      "           6       0.97      0.98      0.97       958\n",
      "           7       0.97      0.97      0.97      1028\n",
      "           8       0.94      0.97      0.96       974\n",
      "           9       0.96      0.97      0.96      1009\n",
      "\n",
      "    accuracy                           0.97     10000\n",
      "   macro avg       0.97      0.97      0.97     10000\n",
      "weighted avg       0.97      0.97      0.97     10000\n",
      "\n"
     ]
    }
   ],
   "source": [
    "from sklearn.metrics import classification_report\n",
    "y_pred_oh = bl_model.predict(test_images)\n",
    "y_pred_baseline = y_pred_oh.argmax(axis=-1)\n",
    "print('MLP classification baseline\\n', classification_report(test_labels, y_pred_baseline))"
   ]
  },
  {
   "cell_type": "code",
   "execution_count": null,
   "id": "37a6b358",
   "metadata": {},
   "outputs": [],
   "source": []
  },
  {
   "cell_type": "markdown",
   "id": "55c4759f",
   "metadata": {},
   "source": [
    "# Training VAE on minority classes only "
   ]
  },
  {
   "cell_type": "code",
   "execution_count": 28,
   "id": "a27c2106",
   "metadata": {},
   "outputs": [
    {
     "name": "stdout",
     "output_type": "stream",
     "text": [
      "Iter: 0 Loss: 804.9\n",
      "Iter: 1000 Loss: 114.9\n",
      "Iter: 2000 Loss: 102.2\n",
      "Iter: 3000 Loss: 87.13\n",
      "Iter: 4000 Loss: 81.26\n",
      "Iter: 5000 Loss: 89.21\n",
      "Iter: 6000 Loss: 83.49\n",
      "Iter: 7000 Loss: 79.47\n",
      "Iter: 8000 Loss: 77.05\n",
      "Iter: 9000 Loss: 87.36\n",
      "Iter: 10000 Loss: 77.52\n",
      "Iter: 11000 Loss: 72.28\n",
      "Iter: 12000 Loss: 85.51\n",
      "Iter: 13000 Loss: 82.97\n",
      "Iter: 14000 Loss: 79.59\n",
      "Iter: 15000 Loss: 74.16\n",
      "Iter: 16000 Loss: 72.24\n",
      "Iter: 17000 Loss: 75.68\n",
      "Iter: 18000 Loss: 78.18\n",
      "Iter: 19000 Loss: 86.29\n",
      "Iter: 20000 Loss: 77.86\n",
      "Iter: 21000 Loss: 73.75\n",
      "Iter: 22000 Loss: 76.87\n",
      "Iter: 23000 Loss: 70.72\n",
      "Iter: 24000 Loss: 76.87\n",
      "Iter: 25000 Loss: 73.02\n",
      "Iter: 26000 Loss: 79.05\n",
      "Iter: 27000 Loss: 65.6\n",
      "Iter: 28000 Loss: 77.77\n",
      "Iter: 29000 Loss: 69.94\n",
      "Iter: 30000 Loss: 79.92\n",
      "Iter: 31000 Loss: 75.1\n",
      "Iter: 32000 Loss: 77.36\n",
      "Iter: 33000 Loss: 76.51\n",
      "Iter: 34000 Loss: 78.28\n",
      "Iter: 35000 Loss: 71.87\n",
      "Iter: 36000 Loss: 76.9\n",
      "Iter: 37000 Loss: 75.7\n",
      "Iter: 38000 Loss: 70.91\n",
      "Iter: 39000 Loss: 73.29\n",
      "Iter: 40000 Loss: 72.35\n",
      "Iter: 41000 Loss: 77.03\n",
      "Iter: 42000 Loss: 76.41\n",
      "Iter: 43000 Loss: 70.14\n",
      "Iter: 44000 Loss: 73.97\n",
      "Iter: 45000 Loss: 76.89\n",
      "Iter: 46000 Loss: 73.15\n",
      "Iter: 47000 Loss: 80.61\n",
      "Iter: 48000 Loss: 72.95\n",
      "Iter: 49000 Loss: 77.84\n",
      "Iter: 50000 Loss: 77.76\n",
      "Iter: 51000 Loss: 76.46\n",
      "Iter: 52000 Loss: 75.58\n",
      "Iter: 53000 Loss: 77.17\n",
      "Iter: 54000 Loss: 78.19\n",
      "Iter: 55000 Loss: 75.0\n",
      "Iter: 56000 Loss: 71.86\n",
      "Iter: 57000 Loss: 78.77\n",
      "Iter: 58000 Loss: 69.92\n",
      "Iter: 59000 Loss: 76.8\n",
      "Iter: 60000 Loss: 69.8\n",
      "Iter: 61000 Loss: 73.99\n",
      "Iter: 62000 Loss: 75.92\n",
      "Iter: 63000 Loss: 73.6\n",
      "Iter: 64000 Loss: 75.94\n",
      "Iter: 65000 Loss: 68.93\n",
      "Iter: 66000 Loss: 80.85\n",
      "Iter: 67000 Loss: 68.73\n",
      "Iter: 68000 Loss: 68.42\n",
      "Iter: 69000 Loss: 78.77\n",
      "Iter: 70000 Loss: 72.39\n",
      "Iter: 71000 Loss: 75.09\n",
      "Iter: 72000 Loss: 60.19\n",
      "Iter: 73000 Loss: 75.45\n",
      "Iter: 74000 Loss: 77.32\n",
      "Iter: 75000 Loss: 83.47\n",
      "Iter: 76000 Loss: 78.26\n",
      "Iter: 77000 Loss: 76.15\n",
      "Iter: 78000 Loss: 73.85\n",
      "Iter: 79000 Loss: 78.31\n",
      "Iter: 80000 Loss: 71.14\n",
      "Iter: 81000 Loss: 83.66\n",
      "Iter: 82000 Loss: 79.28\n",
      "Iter: 83000 Loss: 75.07\n",
      "Iter: 84000 Loss: 72.32\n",
      "Iter: 85000 Loss: 77.82\n",
      "Iter: 86000 Loss: 69.81\n",
      "Iter: 87000 Loss: 70.45\n",
      "Iter: 88000 Loss: 71.46\n",
      "Iter: 89000 Loss: 70.54\n",
      "Iter: 90000 Loss: 74.63\n",
      "Iter: 91000 Loss: 76.53\n",
      "Iter: 92000 Loss: 71.74\n",
      "Iter: 93000 Loss: 81.06\n",
      "Iter: 94000 Loss: 68.85\n",
      "Iter: 95000 Loss: 71.09\n",
      "Iter: 96000 Loss: 77.98\n",
      "Iter: 97000 Loss: 70.27\n",
      "Iter: 98000 Loss: 73.69\n",
      "Iter: 99000 Loss: 74.27\n"
     ]
    }
   ],
   "source": [
    "\n",
    "if not os.path.exists('vae_mnist_min/'):\n",
    "    os.makedirs('vae_mnist_min/')\n",
    "\n",
    "i = 0\n",
    "\n",
    "for it in range(100000):\n",
    "    ind = np.random.choice(train_min_x.shape[0], mb_size)\n",
    "    X_mb = np.array(train_min_x[ind])\n",
    "    y_mb = np.array(train_min_y[ind])\n",
    "    \n",
    "    _, loss = sess.run([solver, vae_loss], feed_dict={X: X_mb, c: y_mb})\n",
    "\n",
    "    if it % 1000 == 0:\n",
    "        print('Iter: {:0} Loss: {:0.4}'.format(it, loss))\n",
    "        \n",
    "        samples=[]\n",
    "        for index in range(2):\n",
    "            y = np.zeros([y_dim, y_dim])\n",
    "            y[range(y_dim), index] = 1\n",
    "            samples.extend(sess.run(X_samples,\n",
    "                           feed_dict={z: np.random.randn(y_dim, z_dim), c: y}))\n",
    "\n",
    "        fig = plot(samples, 10, 28)\n",
    "        plt.savefig('vae_mnist_min/{}.png'.format(str(i).zfill(3)), bbox_inches='tight')\n",
    "        i += 1\n",
    "        plt.close(fig)"
   ]
  },
  {
   "cell_type": "code",
   "execution_count": 29,
   "id": "ee017299",
   "metadata": {},
   "outputs": [
    {
     "name": "stdout",
     "output_type": "stream",
     "text": [
      "(7936, 784)\n",
      "(7936,)\n",
      "0\n"
     ]
    },
    {
     "data": {
      "text/plain": [
       "<matplotlib.image.AxesImage at 0x7fade91f2e80>"
      ]
     },
     "execution_count": 29,
     "metadata": {},
     "output_type": "execute_result"
    },
    {
     "data": {
      "image/png": "[encoded data removed]",
      "text/plain": [
       "<Figure size 432x288 with 1 Axes>"
      ]
     },
     "metadata": {
      "needs_background": "light"
     },
     "output_type": "display_data"
    }
   ],
   "source": [
    "samples = []\n",
    "gen_labels =[]\n",
    "for r in range(62):\n",
    "    for index in range(2):\n",
    "        gen_labels = gen_labels + [index]*mb_size\n",
    "        y = np.zeros([mb_size, y_dim])\n",
    "        y[range(mb_size), index] = 1\n",
    "        samples.extend(sess.run(X_samples,\n",
    "                               feed_dict={z: np.random.randn(mb_size, z_dim), c: y}))\n",
    "\n",
    "gen_samples = np.array(samples)\n",
    "gen_labels = np.array(gen_labels)\n",
    "print(gen_samples.shape)\n",
    "print(gen_labels.shape)\n",
    "print(gen_labels[0])\n",
    "plt.imshow(np.reshape(gen_samples[65],(28,28)), cmap=plt.cm.gray_r, interpolation='nearest')"
   ]
  },
  {
   "cell_type": "code",
   "execution_count": 31,
   "id": "a458c654",
   "metadata": {},
   "outputs": [
    {
     "name": "stdout",
     "output_type": "stream",
     "text": [
      "Model: \"sequential_2\"\n",
      "_________________________________________________________________\n",
      "Layer (type)                 Output Shape              Param #   \n",
      "=================================================================\n",
      "dense_6 (Dense)              (None, 32)                25120     \n",
      "_________________________________________________________________\n",
      "batch_normalization_4 (Batch (None, 32)                128       \n",
      "_________________________________________________________________\n",
      "dense_7 (Dense)              (None, 64)                2112      \n",
      "_________________________________________________________________\n",
      "batch_normalization_5 (Batch (None, 64)                256       \n",
      "_________________________________________________________________\n",
      "flatten_2 (Flatten)          (None, 64)                0         \n",
      "_________________________________________________________________\n",
      "dropout_2 (Dropout)          (None, 64)                0         \n",
      "_________________________________________________________________\n",
      "dense_8 (Dense)              (None, 10)                650       \n",
      "=================================================================\n",
      "Total params: 28,266\n",
      "Trainable params: 28,074\n",
      "Non-trainable params: 192\n",
      "_________________________________________________________________\n",
      "Train on 59271 samples, validate on 10000 samples\n",
      "Epoch 1/30\n",
      "59271/59271 [==============================] - 2s 39us/sample - loss: 0.5387 - acc: 0.8393 - val_loss: 0.2103 - val_acc: 0.9355\n",
      "Epoch 2/30\n"
     ]
    },
    {
     "name": "stderr",
     "output_type": "stream",
     "text": [
      "/media/adamu/data/projects/notebooks/UCI_encoders/imbalance_venv/lib/python3.8/site-packages/keras/engine/training.py:2470: UserWarning: `Model.state_updates` will be removed in a future version. This property should not be used in TensorFlow 2.0, as `updates` are applied automatically.\n",
      "  warnings.warn('`Model.state_updates` will be removed in a future version. '\n"
     ]
    },
    {
     "name": "stdout",
     "output_type": "stream",
     "text": [
      "59271/59271 [==============================] - 2s 32us/sample - loss: 0.2653 - acc: 0.9230 - val_loss: 0.1744 - val_acc: 0.9457\n",
      "Epoch 3/30\n",
      "59271/59271 [==============================] - 2s 31us/sample - loss: 0.2150 - acc: 0.9366 - val_loss: 0.1570 - val_acc: 0.9507\n",
      "Epoch 4/30\n",
      "59271/59271 [==============================] - 2s 31us/sample - loss: 0.1863 - acc: 0.9456 - val_loss: 0.1302 - val_acc: 0.9599\n",
      "Epoch 5/30\n",
      "59271/59271 [==============================] - 2s 33us/sample - loss: 0.1669 - acc: 0.9500 - val_loss: 0.1350 - val_acc: 0.9601\n",
      "Epoch 6/30\n",
      "59271/59271 [==============================] - 2s 34us/sample - loss: 0.1533 - acc: 0.9545 - val_loss: 0.1208 - val_acc: 0.9626\n",
      "Epoch 7/30\n",
      "59271/59271 [==============================] - 2s 33us/sample - loss: 0.1402 - acc: 0.9581 - val_loss: 0.1224 - val_acc: 0.9639\n",
      "Epoch 8/30\n",
      "59271/59271 [==============================] - 2s 34us/sample - loss: 0.1329 - acc: 0.9600 - val_loss: 0.1108 - val_acc: 0.9649\n",
      "Epoch 9/30\n",
      "59271/59271 [==============================] - 2s 31us/sample - loss: 0.1247 - acc: 0.9620 - val_loss: 0.1195 - val_acc: 0.9627\n",
      "Epoch 10/30\n",
      "59271/59271 [==============================] - 2s 32us/sample - loss: 0.1196 - acc: 0.9641 - val_loss: 0.1133 - val_acc: 0.9677\n",
      "Epoch 11/30\n",
      "59271/59271 [==============================] - 2s 33us/sample - loss: 0.1125 - acc: 0.9663 - val_loss: 0.1121 - val_acc: 0.9669\n",
      "Epoch 12/30\n",
      "59271/59271 [==============================] - 2s 34us/sample - loss: 0.1085 - acc: 0.9663 - val_loss: 0.1090 - val_acc: 0.9688\n",
      "Epoch 13/30\n",
      "59271/59271 [==============================] - 2s 33us/sample - loss: 0.1074 - acc: 0.9672 - val_loss: 0.1041 - val_acc: 0.9686\n",
      "Epoch 14/30\n",
      "59271/59271 [==============================] - 2s 32us/sample - loss: 0.1030 - acc: 0.9678 - val_loss: 0.1226 - val_acc: 0.9649\n",
      "Epoch 15/30\n",
      "59271/59271 [==============================] - 2s 33us/sample - loss: 0.0973 - acc: 0.9696 - val_loss: 0.1125 - val_acc: 0.9667\n",
      "Epoch 16/30\n",
      "59271/59271 [==============================] - 2s 31us/sample - loss: 0.0949 - acc: 0.9709 - val_loss: 0.1144 - val_acc: 0.9672\n",
      "Epoch 17/30\n",
      "59271/59271 [==============================] - 2s 31us/sample - loss: 0.0939 - acc: 0.9713 - val_loss: 0.1059 - val_acc: 0.9694\n",
      "Epoch 18/30\n",
      "59271/59271 [==============================] - 2s 33us/sample - loss: 0.0915 - acc: 0.9717 - val_loss: 0.1104 - val_acc: 0.9674\n",
      "Epoch 19/30\n",
      "59271/59271 [==============================] - 2s 31us/sample - loss: 0.0882 - acc: 0.9727 - val_loss: 0.1003 - val_acc: 0.9718\n",
      "Epoch 20/30\n",
      "59271/59271 [==============================] - 2s 31us/sample - loss: 0.0876 - acc: 0.9723 - val_loss: 0.1113 - val_acc: 0.9687\n",
      "Epoch 21/30\n",
      "59271/59271 [==============================] - 2s 34us/sample - loss: 0.0837 - acc: 0.9737 - val_loss: 0.1079 - val_acc: 0.9693\n",
      "Epoch 22/30\n",
      "59271/59271 [==============================] - 2s 31us/sample - loss: 0.0859 - acc: 0.9732 - val_loss: 0.1056 - val_acc: 0.9707\n",
      "Epoch 23/30\n",
      "59271/59271 [==============================] - 2s 32us/sample - loss: 0.0824 - acc: 0.9744 - val_loss: 0.1024 - val_acc: 0.9695\n",
      "Epoch 24/30\n",
      "59271/59271 [==============================] - 2s 33us/sample - loss: 0.0787 - acc: 0.9750 - val_loss: 0.0986 - val_acc: 0.9698\n",
      "Epoch 25/30\n",
      "59271/59271 [==============================] - 2s 31us/sample - loss: 0.0785 - acc: 0.9756 - val_loss: 0.1035 - val_acc: 0.9713\n",
      "Epoch 26/30\n",
      "59271/59271 [==============================] - 2s 31us/sample - loss: 0.0797 - acc: 0.9757 - val_loss: 0.1093 - val_acc: 0.9694\n",
      "Epoch 27/30\n",
      "59271/59271 [==============================] - 2s 30us/sample - loss: 0.0752 - acc: 0.9765 - val_loss: 0.1059 - val_acc: 0.9702\n",
      "Epoch 28/30\n",
      "59271/59271 [==============================] - 2s 30us/sample - loss: 0.0741 - acc: 0.9774 - val_loss: 0.1054 - val_acc: 0.9682\n",
      "Epoch 29/30\n",
      "59271/59271 [==============================] - 2s 30us/sample - loss: 0.0733 - acc: 0.9772 - val_loss: 0.1073 - val_acc: 0.9699\n",
      "Epoch 30/30\n",
      "59271/59271 [==============================] - 2s 30us/sample - loss: 0.0739 - acc: 0.9767 - val_loss: 0.1112 - val_acc: 0.9690\n",
      "test loss:  0.11118869578585727\n",
      "test accuracy:  0.969\n"
     ]
    }
   ],
   "source": [
    "X = np.concatenate([train_x, gen_samples])\n",
    "Y = np.concatenate([np.reshape(gr_labels, -1), gen_labels])\n",
    "Y_oh = np.array(tf.keras.utils.to_categorical(Y, num_classes=10, dtype='float32'))\n",
    "\n",
    "aug_model = build_model()\n",
    "aug_history = aug_model.fit(X, Y_oh, batch_size=batch_size,\n",
    "                    epochs=epochs, validation_data=(test_images, test_y))\n",
    "\n",
    "aug_score = aug_model.evaluate(test_images, test_y, verbose=0)\n",
    "print('test loss: ', aug_score[0])\n",
    "print('test accuracy: ', aug_score[1] )"
   ]
  },
  {
   "cell_type": "code",
   "execution_count": 32,
   "id": "9490d31f",
   "metadata": {},
   "outputs": [
    {
     "data": {
      "image/png": "[encoded data removed]",
      "text/plain": [
       "<Figure size 432x288 with 1 Axes>"
      ]
     },
     "metadata": {
      "needs_background": "light"
     },
     "output_type": "display_data"
    },
    {
     "data": {
      "image/png": "[encoded data removed]",
      "text/plain": [
       "<Figure size 432x288 with 1 Axes>"
      ]
     },
     "metadata": {
      "needs_background": "light"
     },
     "output_type": "display_data"
    }
   ],
   "source": [
    "plt.plot(aug_history.history['acc'])\n",
    "plt.plot(aug_history.history['val_acc'])\n",
    "plt.title('model accuracy')\n",
    "plt.ylabel('accuracy')\n",
    "plt.xlabel('epoch')\n",
    "plt.legend(['train', 'test'], loc='upper left')\n",
    "plt.show()\n",
    "plt.plot(aug_history.history['loss'])\n",
    "plt.plot(aug_history.history['val_loss'])\n",
    "plt.title('model loss')\n",
    "plt.ylabel('loss')\n",
    "plt.xlabel('epoch')\n",
    "plt.legend(['train', 'test'], loc='upper left')\n",
    "plt.show()"
   ]
  },
  {
   "cell_type": "code",
   "execution_count": 33,
   "id": "063c7b8b",
   "metadata": {},
   "outputs": [
    {
     "name": "stdout",
     "output_type": "stream",
     "text": [
      "MLP classification Augmented \n",
      "               precision    recall  f1-score   support\n",
      "\n",
      "           0       0.98      0.98      0.98       980\n",
      "           1       0.99      0.98      0.98      1135\n",
      "           2       0.98      0.95      0.96      1032\n",
      "           3       0.97      0.97      0.97      1010\n",
      "           4       0.96      0.97      0.96       982\n",
      "           5       0.98      0.97      0.97       892\n",
      "           6       0.97      0.98      0.97       958\n",
      "           7       0.97      0.97      0.97      1028\n",
      "           8       0.94      0.97      0.96       974\n",
      "           9       0.96      0.97      0.96      1009\n",
      "\n",
      "    accuracy                           0.97     10000\n",
      "   macro avg       0.97      0.97      0.97     10000\n",
      "weighted avg       0.97      0.97      0.97     10000\n",
      "\n"
     ]
    }
   ],
   "source": [
    "y_pred_aug_oh = bl_model.predict(test_images)\n",
    "y_pred_aug = y_pred_aug_oh.argmax(axis=-1)\n",
    "print('MLP classification Augmented \\n', classification_report(test_labels, y_pred_aug))"
   ]
  },
  {
   "cell_type": "code",
   "execution_count": null,
   "id": "85411fad",
   "metadata": {},
   "outputs": [],
   "source": []
  }
 ],
 "metadata": {
  "kernelspec": {
   "display_name": "Python 3 (ipykernel)",
   "language": "python",
   "name": "python3"
  },
  "language_info": {
   "codemirror_mode": {
    "name": "ipython",
    "version": 3
   },
   "file_extension": ".py",
   "mimetype": "text/x-python",
   "name": "python",
   "nbconvert_exporter": "python",
   "pygments_lexer": "ipython3",
   "version": "3.8.10"
  }
 },
 "nbformat": 4,
 "nbformat_minor": 5
}
