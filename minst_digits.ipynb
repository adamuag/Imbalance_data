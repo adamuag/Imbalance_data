{
 "cells": [
  {
   "cell_type": "code",
   "execution_count": 1,
   "source": [
    "import tensorflow as tf\n",
    "import numpy as np \n",
    "import pandas as pd\n",
    "import matplotlib.pyplot as plt\n",
    "from sklearn.model_selection import train_test_split\n",
    "import cv2"
   ],
   "outputs": [],
   "metadata": {}
  },
  {
   "cell_type": "markdown",
   "source": [
    "## To do list \n",
    "1. Add mlp\n",
    "2. run with smaller h_dim and z_dim \n",
    "3. minority class only VAE\n",
    "4. Meeting on monday"
   ],
   "metadata": {}
  },
  {
   "cell_type": "markdown",
   "source": [
    "# To do list 2\n",
    "1. drop smaller classes ecoli\n",
    "2. reduce the number of samples in the mnist (1:10, 1:15, 1:20)\n",
    "3. averaging all experiments over ten runs\n",
    "4. introduce imbalance in optical digits (one minority class)\n",
    "5. trying different encoding dim n/2, n/4, ... "
   ],
   "metadata": {}
  },
  {
   "cell_type": "code",
   "execution_count": 2,
   "source": [
    "(train_images, train_labels), (test_images,test_labels) = tf.keras.datasets.mnist.load_data()"
   ],
   "outputs": [],
   "metadata": {}
  },
  {
   "cell_type": "code",
   "execution_count": 3,
   "source": [
    "train_images = [np.reshape(x, -1) for x in train_images]\n",
    "test_images= [np.reshape(x, -1) for x in test_images]\n",
    "train_images[0].shape"
   ],
   "outputs": [
    {
     "output_type": "execute_result",
     "data": {
      "text/plain": [
       "(784,)"
      ]
     },
     "metadata": {},
     "execution_count": 3
    }
   ],
   "metadata": {}
  },
  {
   "cell_type": "code",
   "execution_count": 4,
   "source": [
    "\n",
    "def group_all_labels(data, num=100, minor=[]):\n",
    "    # this function is to limit the number of labels that are used\n",
    "    # it returns the indexes according the labels\n",
    "    # data is an array of labels\n",
    "    '''\n",
    "\n",
    "    :param data: array of labels\n",
    "    :param num: number required\n",
    "    :param minor: list of minority indexes\n",
    "    :return: array of labels indexes\n",
    "    '''\n",
    "\n",
    "    labels = np.unique(data)\n",
    "    co_l = []\n",
    "    min_col =[]\n",
    "    if not minor:\n",
    "        for l in labels:\n",
    "            el_l = np.where(np.array(data) == l)\n",
    "            co_l.append(el_l[0])\n",
    "\n",
    "    else:\n",
    "        for l in labels:\n",
    "            if l in minor:\n",
    "                el_l = np.where(np.array(data) == l)\n",
    "                co_l.append((el_l[0])[:num])\n",
    "                min_col.append((el_l[0])[:num])\n",
    "            else:\n",
    "                el_l = np.where(np.array(data) == l)\n",
    "                co_l.append(el_l[0])\n",
    "    return co_l, min_col"
   ],
   "outputs": [],
   "metadata": {}
  },
  {
   "cell_type": "code",
   "execution_count": 5,
   "source": [
    "grouped_labels, min_label = group_all_labels(train_labels, 250, [0, 1])\n",
    "gr_data = []\n",
    "gr_labels = [] \n",
    "for index, q in enumerate(grouped_labels):\n",
    "    print('class {} : number of samples : {}'.format(index,len(q)))\n",
    "    for r in q:\n",
    "        gr_data.append(train_images[r])\n",
    "        gr_labels.append(train_labels[r])\n",
    "\n",
    "gr_min_data = []\n",
    "gr_min_labels = []"
   ],
   "outputs": [
    {
     "output_type": "stream",
     "name": "stdout",
     "text": [
      "class 0 : number of samples : 250\n",
      "class 1 : number of samples : 250\n",
      "class 2 : number of samples : 5958\n",
      "class 3 : number of samples : 6131\n",
      "class 4 : number of samples : 5842\n",
      "class 5 : number of samples : 5421\n",
      "class 6 : number of samples : 5918\n",
      "class 7 : number of samples : 6265\n",
      "class 8 : number of samples : 5851\n",
      "class 9 : number of samples : 5949\n"
     ]
    }
   ],
   "metadata": {}
  },
  {
   "cell_type": "code",
   "execution_count": 6,
   "source": [
    "print('minority data only')\n",
    "gr_min_data = []\n",
    "gr_min_labels = []\n",
    "for index, q in enumerate(min_label):\n",
    "    print('class {} : number of samples : {}'.format(index,len(q)))\n",
    "    for r in q:\n",
    "        gr_min_data.append(train_images[r])\n",
    "        gr_min_labels.append(train_labels[r])\n"
   ],
   "outputs": [
    {
     "output_type": "stream",
     "name": "stdout",
     "text": [
      "minority data only\n",
      "class 0 : number of samples : 250\n",
      "class 1 : number of samples : 250\n"
     ]
    }
   ],
   "metadata": {}
  },
  {
   "cell_type": "code",
   "execution_count": 7,
   "source": [
    "train_x = np.array(gr_data)\n",
    "train_x = (train_x.astype(np.float32) / 255.0) \n",
    "test_x =  np.array(test_images)\n",
    "test_images = (test_x.astype(np.float32)/255.0)\n",
    "\n",
    "train_min_x = np.array(gr_min_data)\n",
    "train_min_x = (train_min_x.astype(np.float32) / 255.0) \n",
    "\n",
    "train_y = tf.keras.utils.to_categorical(gr_labels, num_classes=10, dtype='float32')\n",
    "test_y = tf.keras.utils.to_categorical(test_labels, num_classes=10, dtype='float32')\n",
    "train_min_y = tf.keras.utils.to_categorical(gr_min_labels, num_classes=2, dtype='float32')\n",
    "\n",
    "print(test_y[0])\n",
    "plt.imshow(np.reshape(test_x[0],(28,28)), cmap=plt.cm.gray_r, interpolation='nearest')"
   ],
   "outputs": [
    {
     "output_type": "stream",
     "name": "stdout",
     "text": [
      "[0. 0. 0. 0. 0. 0. 0. 1. 0. 0.]\n"
     ]
    },
    {
     "output_type": "execute_result",
     "data": {
      "text/plain": [
       "<matplotlib.image.AxesImage at 0x7f49c0d29dc0>"
      ]
     },
     "metadata": {},
     "execution_count": 7
    },
    {
     "output_type": "display_data",
     "data": {
      "image/png": "[encoded data removed]",
      "text/plain": [
       "<Figure size 432x288 with 1 Axes>"
      ]
     },
     "metadata": {
      "needs_background": "light"
     }
    }
   ],
   "metadata": {}
  },
  {
   "cell_type": "markdown",
   "source": [
    "#  VAE Model"
   ],
   "metadata": {}
  },
  {
   "cell_type": "code",
   "execution_count": 8,
   "source": [
    "import tensorflow.compat.v1  as tf\n",
    "tf.disable_v2_behavior()\n",
    "from matplotlib import pyplot as plt\n",
    "import matplotlib.gridspec as gridspec\n",
    "import os\n",
    "import numpy as np\n",
    "\n",
    "mb_size = 64\n",
    "z_dim = 100\n",
    "X_dim = 784\n",
    "y_dim = 10\n",
    "h_dim = 128\n",
    "lr = 1e-3\n",
    "\n",
    "\n",
    "def plot(samples, sz, shape):\n",
    "    fig = plt.figure(figsize=(sz, sz))\n",
    "    gs = gridspec.GridSpec(sz, sz)\n",
    "    gs.update(wspace=0.05, hspace=0.05)\n",
    "\n",
    "    for i, sample in enumerate(samples):\n",
    "        ax = plt.subplot(gs[i])\n",
    "        plt.axis('off')\n",
    "        ax.set_xticklabels([])\n",
    "        ax.set_yticklabels([])\n",
    "        ax.set_aspect('equal')\n",
    "        plt.imshow(sample.reshape(shape, shape), cmap='Greys_r')\n",
    "\n",
    "    return fig\n",
    "\n",
    "\n",
    "def xavier_init(size):\n",
    "    in_dim = size[0]\n",
    "    xavier_stddev = 1. / tf.sqrt(in_dim / 2.)\n",
    "    return tf.random.normal(shape=size, stddev=xavier_stddev)\n",
    "\n",
    "\n",
    "# Q(z|X) \n",
    "\n",
    "X = tf.keras.Input(shape=(X_dim,))\n",
    "c = tf.keras.Input(shape=(y_dim,))\n",
    "z = tf.keras.Input(shape=(z_dim,))\n",
    "\n",
    "Q_W1 = tf.Variable(xavier_init([X_dim + y_dim, h_dim]))\n",
    "Q_b1 = tf.Variable(tf.zeros(shape=[h_dim]))\n",
    "\n",
    "Q_W2_mu = tf.Variable(xavier_init([h_dim, z_dim]))\n",
    "Q_b2_mu = tf.Variable(tf.zeros(shape=[z_dim]))\n",
    "\n",
    "Q_W2_sigma = tf.Variable(xavier_init([h_dim, z_dim]))\n",
    "Q_b2_sigma = tf.Variable(tf.zeros(shape=[z_dim]))\n",
    "\n",
    "\n",
    "def Q(X, c):\n",
    "    inputs = tf.concat(axis=1, values=[X, c])\n",
    "    h = tf.nn.relu(tf.matmul(inputs, Q_W1) + Q_b1)\n",
    "    z_mu = tf.matmul(h, Q_W2_mu) + Q_b2_mu\n",
    "    z_logvar = tf.matmul(h, Q_W2_sigma) + Q_b2_sigma\n",
    "    return z_mu, z_logvar\n",
    "\n",
    "\n",
    "def sample_z(mu, log_var):\n",
    "    eps = tf.random.normal(shape=tf.shape(mu))\n",
    "    return mu + tf.exp(log_var / 2) * eps\n",
    "\n",
    "\n",
    "# P(X|z)\n",
    "\n",
    "P_W1 = tf.Variable(xavier_init([z_dim + y_dim, h_dim]))\n",
    "P_b1 = tf.Variable(tf.zeros(shape=[h_dim]))\n",
    "\n",
    "P_W2 = tf.Variable(xavier_init([h_dim, X_dim]))\n",
    "P_b2 = tf.Variable(tf.zeros(shape=[X_dim]))\n",
    "\n",
    "\n",
    "def P(z, c):\n",
    "    inputs = tf.concat(axis=1, values=[z, c])\n",
    "    h = tf.nn.relu(tf.matmul(inputs, P_W1) + P_b1)\n",
    "    logits = tf.matmul(h, P_W2) + P_b2\n",
    "    prob = tf.nn.sigmoid(logits)\n",
    "    return prob, logits\n",
    "\n",
    "z_mu, z_logvar = Q(X, c)\n",
    "z_sample = sample_z(z_mu, z_logvar)\n",
    "_, logits = P(z_sample, c)\n",
    "\n",
    "# Sampling from random z\n",
    "X_samples, _ = P(z, c)\n",
    "\n",
    "# E[log P(X|z)]\n",
    "recon_loss = tf.reduce_sum(tf.nn.sigmoid_cross_entropy_with_logits(logits=logits, labels=X), 1)\n",
    "kl_loss = 0.5 * tf.reduce_sum(tf.exp(z_logvar) + z_mu**2 - 1. - z_logvar, 1)\n",
    "\n",
    "# VAE loss\n",
    "vae_loss = tf.reduce_mean(recon_loss + kl_loss)\n",
    "\n",
    "# gradient step\n",
    "solver = tf.compat.v1.train.AdamOptimizer().minimize(vae_loss)\n",
    "sess = tf.compat.v1.Session ()\n",
    "sess.run(\n",
    "tf.compat.v1.global_variables_initializer())"
   ],
   "outputs": [
    {
     "output_type": "stream",
     "name": "stdout",
     "text": [
      "WARNING:tensorflow:From /media/adamu/data/projects/notebooks/UCI_encoders/imbalance_venv/lib/python3.8/site-packages/tensorflow/python/compat/v2_compat.py:101: disable_resource_variables (from tensorflow.python.ops.variable_scope) is deprecated and will be removed in a future version.\n",
      "Instructions for updating:\n",
      "non-resource variables are not supported in the long term\n"
     ]
    },
    {
     "output_type": "stream",
     "name": "stderr",
     "text": [
      "2021-10-03 22:51:05.430748: I tensorflow/stream_executor/cuda/cuda_gpu_executor.cc:937] successful NUMA node read from SysFS had negative value (-1), but there must be at least one NUMA node, so returning NUMA node zero\n",
      "2021-10-03 22:51:05.437910: W tensorflow/stream_executor/platform/default/dso_loader.cc:64] Could not load dynamic library 'libcusolver.so.11'; dlerror: libcusolver.so.11: cannot open shared object file: No such file or directory\n",
      "2021-10-03 22:51:05.438712: W tensorflow/core/common_runtime/gpu/gpu_device.cc:1835] Cannot dlopen some GPU libraries. Please make sure the missing libraries mentioned above are installed properly if you would like to use GPU. Follow the guide at https://www.tensorflow.org/install/gpu for how to download and setup the required libraries for your platform.\n",
      "Skipping registering GPU devices...\n",
      "2021-10-03 22:51:05.439490: I tensorflow/core/platform/cpu_feature_guard.cc:142] This TensorFlow binary is optimized with oneAPI Deep Neural Network Library (oneDNN) to use the following CPU instructions in performance-critical operations:  AVX2 FMA\n",
      "To enable them in other operations, rebuild TensorFlow with the appropriate compiler flags.\n"
     ]
    }
   ],
   "metadata": {}
  },
  {
   "cell_type": "code",
   "execution_count": 9,
   "source": [
    "\n",
    "if not os.path.exists('vae_mnist_250/'):\n",
    "    os.makedirs('vae_mnist_250/')\n",
    "\n",
    "i = 0\n",
    "\n",
    "for it in range(100000):\n",
    "    ind = np.random.choice(train_x.shape[0], mb_size)\n",
    "    X_mb = np.array(train_x[ind])\n",
    "    y_mb = np.array(train_y[ind])\n",
    "    \n",
    "    _, loss = sess.run([solver, vae_loss], feed_dict={X: X_mb, c: y_mb})\n",
    "\n",
    "    if it % 1000 == 0:\n",
    "        print('Iter: {:0} Loss: {:0.4}'.format(it, loss))\n",
    "        \n",
    "        samples=[]\n",
    "        for index in range(y_dim):\n",
    "            y = np.zeros([y_dim, y_dim])\n",
    "            y[range(y_dim), index] = 1\n",
    "            samples.extend(sess.run(X_samples,\n",
    "                           feed_dict={z: np.random.randn(y_dim, z_dim), c: y}))\n",
    "\n",
    "        fig = plot(samples, 10, 28)\n",
    "        plt.savefig('vae_mnist_250/{}.png'.format(str(i).zfill(3)), bbox_inches='tight')\n",
    "        i += 1\n",
    "        plt.close(fig)"
   ],
   "outputs": [
    {
     "output_type": "stream",
     "name": "stdout",
     "text": [
      "Iter: 0 Loss: 742.8\n",
      "Iter: 1000 Loss: 143.4\n",
      "Iter: 2000 Loss: 133.3\n",
      "Iter: 3000 Loss: 121.1\n",
      "Iter: 4000 Loss: 123.6\n",
      "Iter: 5000 Loss: 114.9\n",
      "Iter: 6000 Loss: 107.6\n",
      "Iter: 7000 Loss: 111.5\n",
      "Iter: 8000 Loss: 114.6\n",
      "Iter: 9000 Loss: 111.2\n",
      "Iter: 10000 Loss: 107.3\n",
      "Iter: 11000 Loss: 112.2\n",
      "Iter: 12000 Loss: 109.7\n",
      "Iter: 13000 Loss: 111.5\n",
      "Iter: 14000 Loss: 115.9\n",
      "Iter: 15000 Loss: 112.2\n",
      "Iter: 16000 Loss: 106.4\n",
      "Iter: 17000 Loss: 108.8\n",
      "Iter: 18000 Loss: 109.4\n",
      "Iter: 19000 Loss: 106.7\n",
      "Iter: 20000 Loss: 108.0\n",
      "Iter: 21000 Loss: 105.6\n",
      "Iter: 22000 Loss: 108.6\n",
      "Iter: 23000 Loss: 109.4\n",
      "Iter: 24000 Loss: 104.3\n",
      "Iter: 25000 Loss: 110.2\n",
      "Iter: 26000 Loss: 108.6\n",
      "Iter: 27000 Loss: 111.6\n",
      "Iter: 28000 Loss: 108.8\n",
      "Iter: 29000 Loss: 115.0\n",
      "Iter: 30000 Loss: 105.5\n",
      "Iter: 31000 Loss: 107.1\n",
      "Iter: 32000 Loss: 111.5\n",
      "Iter: 33000 Loss: 106.5\n",
      "Iter: 34000 Loss: 108.8\n",
      "Iter: 35000 Loss: 104.6\n",
      "Iter: 36000 Loss: 102.7\n",
      "Iter: 37000 Loss: 100.0\n",
      "Iter: 38000 Loss: 104.7\n",
      "Iter: 39000 Loss: 110.4\n",
      "Iter: 40000 Loss: 107.6\n",
      "Iter: 41000 Loss: 104.9\n",
      "Iter: 42000 Loss: 102.9\n",
      "Iter: 43000 Loss: 105.0\n",
      "Iter: 44000 Loss: 104.8\n",
      "Iter: 45000 Loss: 107.9\n",
      "Iter: 46000 Loss: 105.3\n",
      "Iter: 47000 Loss: 107.9\n",
      "Iter: 48000 Loss: 102.4\n",
      "Iter: 49000 Loss: 108.2\n",
      "Iter: 50000 Loss: 106.2\n",
      "Iter: 51000 Loss: 106.6\n",
      "Iter: 52000 Loss: 109.4\n",
      "Iter: 53000 Loss: 107.6\n",
      "Iter: 54000 Loss: 102.8\n",
      "Iter: 55000 Loss: 103.8\n",
      "Iter: 56000 Loss: 109.2\n",
      "Iter: 57000 Loss: 101.9\n",
      "Iter: 58000 Loss: 109.6\n",
      "Iter: 59000 Loss: 102.2\n",
      "Iter: 60000 Loss: 108.8\n",
      "Iter: 61000 Loss: 105.2\n",
      "Iter: 62000 Loss: 105.4\n",
      "Iter: 63000 Loss: 103.5\n",
      "Iter: 64000 Loss: 110.1\n",
      "Iter: 65000 Loss: 109.9\n",
      "Iter: 66000 Loss: 102.8\n",
      "Iter: 67000 Loss: 102.9\n",
      "Iter: 68000 Loss: 105.4\n",
      "Iter: 69000 Loss: 113.6\n",
      "Iter: 70000 Loss: 106.8\n",
      "Iter: 71000 Loss: 107.4\n",
      "Iter: 72000 Loss: 99.61\n",
      "Iter: 73000 Loss: 108.0\n",
      "Iter: 74000 Loss: 111.7\n",
      "Iter: 75000 Loss: 108.3\n",
      "Iter: 76000 Loss: 104.1\n",
      "Iter: 77000 Loss: 105.6\n",
      "Iter: 78000 Loss: 103.8\n",
      "Iter: 79000 Loss: 103.9\n",
      "Iter: 80000 Loss: 103.5\n",
      "Iter: 81000 Loss: 102.2\n",
      "Iter: 82000 Loss: 108.2\n",
      "Iter: 83000 Loss: 106.2\n",
      "Iter: 84000 Loss: 107.5\n",
      "Iter: 85000 Loss: 99.98\n",
      "Iter: 86000 Loss: 106.7\n",
      "Iter: 87000 Loss: 103.6\n",
      "Iter: 88000 Loss: 107.3\n",
      "Iter: 89000 Loss: 108.9\n",
      "Iter: 90000 Loss: 107.3\n",
      "Iter: 91000 Loss: 105.2\n",
      "Iter: 92000 Loss: 104.3\n",
      "Iter: 93000 Loss: 108.1\n",
      "Iter: 94000 Loss: 110.6\n",
      "Iter: 95000 Loss: 104.6\n",
      "Iter: 96000 Loss: 110.4\n",
      "Iter: 97000 Loss: 103.9\n",
      "Iter: 98000 Loss: 106.0\n",
      "Iter: 99000 Loss: 103.3\n"
     ]
    }
   ],
   "metadata": {}
  },
  {
   "cell_type": "code",
   "execution_count": 10,
   "source": [
    "samples = []\n",
    "gen_labels =[]\n",
    "for r in range(62):\n",
    "    for index in range(2):\n",
    "        gen_labels = gen_labels + [index]*mb_size\n",
    "        y = np.zeros([mb_size, y_dim])\n",
    "        y[range(mb_size), index] = 1\n",
    "        samples.extend(sess.run(X_samples,\n",
    "                               feed_dict={z: np.random.randn(mb_size, z_dim), c: y}))\n",
    "\n",
    "gen_samples = np.array(samples)\n",
    "gen_labels = np.array(gen_labels)\n",
    "print(gen_samples.shape)\n",
    "print(gen_labels.shape)\n",
    "print(gen_labels[0])"
   ],
   "outputs": [
    {
     "output_type": "stream",
     "name": "stdout",
     "text": [
      "(7936, 784)\n",
      "(7936,)\n",
      "0\n"
     ]
    }
   ],
   "metadata": {}
  },
  {
   "cell_type": "markdown",
   "source": [
    "# Adding and classifying with generated samples"
   ],
   "metadata": {}
  },
  {
   "cell_type": "code",
   "execution_count": 11,
   "source": [
    "plt.imshow(np.reshape(gen_samples[65],(28,28)), cmap=plt.cm.gray_r, interpolation='nearest')\n",
    "#np.save('mnist_gen_data.npy', gen_samples)\n",
    "#np.save('mnist_gen_labels.npy', gen_labels)\n"
   ],
   "outputs": [
    {
     "output_type": "execute_result",
     "data": {
      "text/plain": [
       "<matplotlib.image.AxesImage at 0x7f487d6e1ac0>"
      ]
     },
     "metadata": {},
     "execution_count": 11
    },
    {
     "output_type": "display_data",
     "data": {
      "image/png": "[encoded data removed]",
      "text/plain": [
       "<Figure size 432x288 with 1 Axes>"
      ]
     },
     "metadata": {
      "needs_background": "light"
     }
    }
   ],
   "metadata": {}
  },
  {
   "cell_type": "code",
   "execution_count": 12,
   "source": [
    "X = np.concatenate([train_x, gen_samples])\n",
    "Y = np.concatenate([np.reshape(gr_labels, -1), gen_labels])"
   ],
   "outputs": [],
   "metadata": {}
  },
  {
   "cell_type": "markdown",
   "source": [
    "# MLP Experiment "
   ],
   "metadata": {}
  },
  {
   "cell_type": "code",
   "execution_count": 13,
   "source": [
    "from tensorflow.keras.layers import Dense, BatchNormalization, Dropout, Input, Flatten\n",
    "from tensorflow.keras.models import Sequential\n",
    "\n",
    "def build_model(input_shape=(784,), num_classes=10):\n",
    "    \"\"\"\n",
    "\n",
    "    :param input_shape: shape of input_data\n",
    "    :param num_classes: number of classes\n",
    "    :return: keras.model.sequential compiled with categorical cross-entropy loss\n",
    "    \"\"\"\n",
    "    model = Sequential([\n",
    "        Input(shape=input_shape),\n",
    "        Dense(32, activation=\"relu\"),\n",
    "        BatchNormalization(),\n",
    "        Dense(64, activation=\"relu\"),\n",
    "        BatchNormalization(),\n",
    "        Flatten(),\n",
    "        Dropout(0.5),\n",
    "        Dense(num_classes, activation=\"softmax\"),\n",
    "    ])\n",
    "\n",
    "    model.compile(loss=\"categorical_crossentropy\", optimizer=\"adam\", metrics=[\"accuracy\"])\n",
    "    model.summary()\n",
    "    return model"
   ],
   "outputs": [],
   "metadata": {}
  },
  {
   "cell_type": "code",
   "execution_count": 14,
   "source": [
    "bl_model = build_model()\n",
    "batch_size=64\n",
    "epochs=30\n",
    "bl_history = bl_model.fit(train_x, train_y, batch_size=batch_size,\n",
    "                    epochs=epochs, validation_data=(test_images, test_y))\n",
    "\n",
    "bl_score = bl_model.evaluate(test_images, test_y, verbose=0)\n",
    "print('test loss: ', bl_score[0])\n",
    "print('test accuracy: ', bl_score[1] )"
   ],
   "outputs": [
    {
     "output_type": "stream",
     "name": "stdout",
     "text": [
      "WARNING:tensorflow:From /media/adamu/data/projects/notebooks/UCI_encoders/imbalance_venv/lib/python3.8/site-packages/keras/layers/normalization/batch_normalization.py:520: _colocate_with (from tensorflow.python.framework.ops) is deprecated and will be removed in a future version.\n",
      "Instructions for updating:\n",
      "Colocations handled automatically by placer.\n",
      "Model: \"sequential\"\n",
      "_________________________________________________________________\n",
      "Layer (type)                 Output Shape              Param #   \n",
      "=================================================================\n",
      "dense (Dense)                (None, 32)                25120     \n",
      "_________________________________________________________________\n",
      "batch_normalization (BatchNo (None, 32)                128       \n",
      "_________________________________________________________________\n",
      "dense_1 (Dense)              (None, 64)                2112      \n",
      "_________________________________________________________________\n",
      "batch_normalization_1 (Batch (None, 64)                256       \n",
      "_________________________________________________________________\n",
      "flatten (Flatten)            (None, 64)                0         \n",
      "_________________________________________________________________\n",
      "dropout (Dropout)            (None, 64)                0         \n",
      "_________________________________________________________________\n",
      "dense_2 (Dense)              (None, 10)                650       \n",
      "=================================================================\n",
      "Total params: 28,266\n",
      "Trainable params: 28,074\n",
      "Non-trainable params: 192\n",
      "_________________________________________________________________\n",
      "Train on 47835 samples, validate on 10000 samples\n",
      "Epoch 1/30\n",
      "47835/47835 [==============================] - 2s 36us/sample - loss: 0.6056 - acc: 0.8195 - val_loss: 0.5006 - val_acc: 0.8207\n",
      "Epoch 2/30\n",
      "   64/47835 [..............................] - ETA: 3s - loss: 0.3437 - acc: 0.9062"
     ]
    },
    {
     "output_type": "stream",
     "name": "stderr",
     "text": [
      "/media/adamu/data/projects/notebooks/UCI_encoders/imbalance_venv/lib/python3.8/site-packages/keras/engine/training.py:2470: UserWarning: `Model.state_updates` will be removed in a future version. This property should not be used in TensorFlow 2.0, as `updates` are applied automatically.\n",
      "  warnings.warn('`Model.state_updates` will be removed in a future version. '\n"
     ]
    },
    {
     "output_type": "stream",
     "name": "stdout",
     "text": [
      "47835/47835 [==============================] - 2s 32us/sample - loss: 0.2876 - acc: 0.9156 - val_loss: 0.3568 - val_acc: 0.8878\n",
      "Epoch 3/30\n",
      "47835/47835 [==============================] - 2s 32us/sample - loss: 0.2306 - acc: 0.9321 - val_loss: 0.2948 - val_acc: 0.9054\n",
      "Epoch 4/30\n",
      "47835/47835 [==============================] - 2s 33us/sample - loss: 0.1979 - acc: 0.9420 - val_loss: 0.2504 - val_acc: 0.9226\n",
      "Epoch 5/30\n",
      "47835/47835 [==============================] - 1s 29us/sample - loss: 0.1802 - acc: 0.9461 - val_loss: 0.2021 - val_acc: 0.9409\n",
      "Epoch 6/30\n",
      "47835/47835 [==============================] - 1s 31us/sample - loss: 0.1668 - acc: 0.9506 - val_loss: 0.2195 - val_acc: 0.9346\n",
      "Epoch 7/30\n",
      "47835/47835 [==============================] - 1s 31us/sample - loss: 0.1549 - acc: 0.9539 - val_loss: 0.1949 - val_acc: 0.9416\n",
      "Epoch 8/30\n",
      "47835/47835 [==============================] - 1s 30us/sample - loss: 0.1435 - acc: 0.9568 - val_loss: 0.2258 - val_acc: 0.9345\n",
      "Epoch 9/30\n",
      "47835/47835 [==============================] - 1s 31us/sample - loss: 0.1364 - acc: 0.9585 - val_loss: 0.1976 - val_acc: 0.9405\n",
      "Epoch 10/30\n",
      "47835/47835 [==============================] - 1s 30us/sample - loss: 0.1311 - acc: 0.9605 - val_loss: 0.1766 - val_acc: 0.9471\n",
      "Epoch 11/30\n",
      "47835/47835 [==============================] - 1s 30us/sample - loss: 0.1253 - acc: 0.9626 - val_loss: 0.2043 - val_acc: 0.9387\n",
      "Epoch 12/30\n",
      "47835/47835 [==============================] - 1s 30us/sample - loss: 0.1200 - acc: 0.9639 - val_loss: 0.1880 - val_acc: 0.9448\n",
      "Epoch 13/30\n",
      "47835/47835 [==============================] - 1s 31us/sample - loss: 0.1175 - acc: 0.9648 - val_loss: 0.1720 - val_acc: 0.9492\n",
      "Epoch 14/30\n",
      "47835/47835 [==============================] - 1s 31us/sample - loss: 0.1104 - acc: 0.9663 - val_loss: 0.1887 - val_acc: 0.9443\n",
      "Epoch 15/30\n",
      "47835/47835 [==============================] - 1s 30us/sample - loss: 0.1081 - acc: 0.9662 - val_loss: 0.1753 - val_acc: 0.9486\n",
      "Epoch 16/30\n",
      "47835/47835 [==============================] - 1s 31us/sample - loss: 0.1028 - acc: 0.9686 - val_loss: 0.1779 - val_acc: 0.9476\n",
      "Epoch 17/30\n",
      "47835/47835 [==============================] - 1s 31us/sample - loss: 0.1042 - acc: 0.9680 - val_loss: 0.1916 - val_acc: 0.9465\n",
      "Epoch 18/30\n",
      "47835/47835 [==============================] - 1s 31us/sample - loss: 0.0984 - acc: 0.9698 - val_loss: 0.1625 - val_acc: 0.9543\n",
      "Epoch 19/30\n",
      "47835/47835 [==============================] - 2s 31us/sample - loss: 0.0948 - acc: 0.9704 - val_loss: 0.1864 - val_acc: 0.9477\n",
      "Epoch 20/30\n",
      "47835/47835 [==============================] - 1s 31us/sample - loss: 0.0939 - acc: 0.9709 - val_loss: 0.1637 - val_acc: 0.9536\n",
      "Epoch 21/30\n",
      "47835/47835 [==============================] - 1s 30us/sample - loss: 0.0905 - acc: 0.9720 - val_loss: 0.1807 - val_acc: 0.9477\n",
      "Epoch 22/30\n",
      "47835/47835 [==============================] - 1s 31us/sample - loss: 0.0887 - acc: 0.9716 - val_loss: 0.1943 - val_acc: 0.9457\n",
      "Epoch 23/30\n",
      "47835/47835 [==============================] - 1s 31us/sample - loss: 0.0878 - acc: 0.9726 - val_loss: 0.1944 - val_acc: 0.9441\n",
      "Epoch 24/30\n",
      "47835/47835 [==============================] - 1s 31us/sample - loss: 0.0850 - acc: 0.9731 - val_loss: 0.1853 - val_acc: 0.9503\n",
      "Epoch 25/30\n",
      "47835/47835 [==============================] - 2s 32us/sample - loss: 0.0835 - acc: 0.9734 - val_loss: 0.1963 - val_acc: 0.9460\n",
      "Epoch 26/30\n",
      "47835/47835 [==============================] - 1s 31us/sample - loss: 0.0830 - acc: 0.9733 - val_loss: 0.1925 - val_acc: 0.9473\n",
      "Epoch 27/30\n",
      "47835/47835 [==============================] - 2s 32us/sample - loss: 0.0802 - acc: 0.9739 - val_loss: 0.2051 - val_acc: 0.9424\n",
      "Epoch 28/30\n",
      "47835/47835 [==============================] - 1s 31us/sample - loss: 0.0791 - acc: 0.9749 - val_loss: 0.1810 - val_acc: 0.9488\n",
      "Epoch 29/30\n",
      "47835/47835 [==============================] - 1s 31us/sample - loss: 0.0794 - acc: 0.9749 - val_loss: 0.1706 - val_acc: 0.9545\n",
      "Epoch 30/30\n",
      "47835/47835 [==============================] - 1s 31us/sample - loss: 0.0776 - acc: 0.9760 - val_loss: 0.1969 - val_acc: 0.9462\n",
      "test loss:  0.19685308172553778\n",
      "test accuracy:  0.9462\n"
     ]
    }
   ],
   "metadata": {}
  },
  {
   "cell_type": "code",
   "execution_count": 15,
   "source": [
    "print(bl_history.history.keys())\n",
    "plt.plot(bl_history.history['acc'])\n",
    "plt.plot(bl_history.history['val_acc'])\n",
    "plt.title('model accuracy')\n",
    "plt.ylabel('accuracy')\n",
    "plt.xlabel('epoch')\n",
    "plt.legend(['train', 'test'], loc='upper left')\n",
    "plt.show()\n",
    "plt.plot(bl_history.history['loss'])\n",
    "plt.plot(bl_history.history['val_loss'])\n",
    "plt.title('model loss')\n",
    "plt.ylabel('loss')\n",
    "plt.xlabel('epoch')\n",
    "plt.legend(['train', 'test'], loc='upper left')\n",
    "plt.show()"
   ],
   "outputs": [
    {
     "output_type": "stream",
     "name": "stdout",
     "text": [
      "dict_keys(['loss', 'acc', 'val_loss', 'val_acc'])\n"
     ]
    },
    {
     "output_type": "display_data",
     "data": {
      "image/png": "[encoded data removed]",
      "text/plain": [
       "<Figure size 432x288 with 1 Axes>"
      ]
     },
     "metadata": {
      "needs_background": "light"
     }
    },
    {
     "output_type": "display_data",
     "data": {
      "image/png": "[encoded data removed]",
      "text/plain": [
       "<Figure size 432x288 with 1 Axes>"
      ]
     },
     "metadata": {
      "needs_background": "light"
     }
    }
   ],
   "metadata": {}
  },
  {
   "cell_type": "code",
   "execution_count": 16,
   "source": [
    "from sklearn.metrics import classification_report\n",
    "y_pred_oh = bl_model.predict(test_images)\n",
    "y_pred_baseline = y_pred_oh.argmax(axis=-1)\n",
    "print('MLP classification baseline\\n', classification_report(test_labels, y_pred_baseline))"
   ],
   "outputs": [
    {
     "output_type": "stream",
     "name": "stdout",
     "text": [
      "MLP classification baseline\n",
      "               precision    recall  f1-score   support\n",
      "\n",
      "           0       0.99      0.84      0.91       980\n",
      "           1       0.99      0.88      0.93      1135\n",
      "           2       0.94      0.97      0.95      1032\n",
      "           3       0.95      0.97      0.96      1010\n",
      "           4       0.96      0.97      0.96       982\n",
      "           5       0.96      0.97      0.96       892\n",
      "           6       0.94      0.98      0.96       958\n",
      "           7       0.94      0.97      0.96      1028\n",
      "           8       0.87      0.97      0.92       974\n",
      "           9       0.94      0.96      0.95      1009\n",
      "\n",
      "    accuracy                           0.95     10000\n",
      "   macro avg       0.95      0.95      0.95     10000\n",
      "weighted avg       0.95      0.95      0.95     10000\n",
      "\n"
     ]
    }
   ],
   "metadata": {}
  },
  {
   "cell_type": "code",
   "execution_count": 17,
   "source": [
    "# X = np.concatenate([train_x, gen_samples])\n",
    "# Y = np.concatenate([np.reshape(gr_labels, -1), gen_labels])\n",
    "Y_oh = np.array(tf.keras.utils.to_categorical(Y, num_classes=10, dtype='float32'))\n",
    "\n",
    "aug_model = build_model()\n",
    "aug_history = aug_model.fit(X, Y_oh, batch_size=batch_size,\n",
    "                    epochs=epochs, validation_data=(test_images, test_y))\n",
    "\n",
    "aug_score = aug_model.evaluate(test_images, test_y, verbose=0)\n",
    "print('test loss: ', aug_score[0])\n",
    "print('test accuracy: ', aug_score[1] )"
   ],
   "outputs": [
    {
     "output_type": "stream",
     "name": "stdout",
     "text": [
      "Model: \"sequential_1\"\n",
      "_________________________________________________________________\n",
      "Layer (type)                 Output Shape              Param #   \n",
      "=================================================================\n",
      "dense_3 (Dense)              (None, 32)                25120     \n",
      "_________________________________________________________________\n",
      "batch_normalization_2 (Batch (None, 32)                128       \n",
      "_________________________________________________________________\n",
      "dense_4 (Dense)              (None, 64)                2112      \n",
      "_________________________________________________________________\n",
      "batch_normalization_3 (Batch (None, 64)                256       \n",
      "_________________________________________________________________\n",
      "flatten_1 (Flatten)          (None, 64)                0         \n",
      "_________________________________________________________________\n",
      "dropout_1 (Dropout)          (None, 64)                0         \n",
      "_________________________________________________________________\n",
      "dense_5 (Dense)              (None, 10)                650       \n",
      "=================================================================\n",
      "Total params: 28,266\n",
      "Trainable params: 28,074\n",
      "Non-trainable params: 192\n",
      "_________________________________________________________________\n",
      "Train on 55771 samples, validate on 10000 samples\n",
      "Epoch 1/30\n",
      "55771/55771 [==============================] - 2s 38us/sample - loss: 0.5958 - acc: 0.8200 - val_loss: 0.2477 - val_acc: 0.9223\n"
     ]
    },
    {
     "output_type": "stream",
     "name": "stderr",
     "text": [
      "/media/adamu/data/projects/notebooks/UCI_encoders/imbalance_venv/lib/python3.8/site-packages/keras/engine/training.py:2470: UserWarning: `Model.state_updates` will be removed in a future version. This property should not be used in TensorFlow 2.0, as `updates` are applied automatically.\n",
      "  warnings.warn('`Model.state_updates` will be removed in a future version. '\n"
     ]
    },
    {
     "output_type": "stream",
     "name": "stdout",
     "text": [
      "Epoch 2/30\n",
      "55771/55771 [==============================] - 2s 33us/sample - loss: 0.2798 - acc: 0.9172 - val_loss: 0.1936 - val_acc: 0.9430\n",
      "Epoch 3/30\n",
      "55771/55771 [==============================] - 2s 31us/sample - loss: 0.2267 - acc: 0.9343 - val_loss: 0.1897 - val_acc: 0.9454\n",
      "Epoch 4/30\n",
      "55771/55771 [==============================] - 2s 31us/sample - loss: 0.1925 - acc: 0.9423 - val_loss: 0.1760 - val_acc: 0.9454\n",
      "Epoch 5/30\n",
      "55771/55771 [==============================] - 2s 30us/sample - loss: 0.1737 - acc: 0.9488 - val_loss: 0.1571 - val_acc: 0.9526\n",
      "Epoch 6/30\n",
      "55771/55771 [==============================] - 2s 31us/sample - loss: 0.1577 - acc: 0.9529 - val_loss: 0.1502 - val_acc: 0.9564\n",
      "Epoch 7/30\n",
      "55771/55771 [==============================] - 2s 31us/sample - loss: 0.1513 - acc: 0.9562 - val_loss: 0.1572 - val_acc: 0.9535\n",
      "Epoch 8/30\n",
      "55771/55771 [==============================] - 2s 31us/sample - loss: 0.1390 - acc: 0.9583 - val_loss: 0.1496 - val_acc: 0.9561\n",
      "Epoch 9/30\n",
      "55771/55771 [==============================] - 2s 30us/sample - loss: 0.1347 - acc: 0.9595 - val_loss: 0.1590 - val_acc: 0.9553\n",
      "Epoch 10/30\n",
      "55771/55771 [==============================] - 2s 30us/sample - loss: 0.1270 - acc: 0.9613 - val_loss: 0.1609 - val_acc: 0.9561\n",
      "Epoch 11/30\n",
      "55771/55771 [==============================] - 2s 31us/sample - loss: 0.1209 - acc: 0.9628 - val_loss: 0.1595 - val_acc: 0.9566\n",
      "Epoch 12/30\n",
      "55771/55771 [==============================] - 2s 32us/sample - loss: 0.1170 - acc: 0.9642 - val_loss: 0.1450 - val_acc: 0.9598\n",
      "Epoch 13/30\n",
      "55771/55771 [==============================] - 2s 31us/sample - loss: 0.1112 - acc: 0.9664 - val_loss: 0.1426 - val_acc: 0.9598\n",
      "Epoch 14/30\n",
      "55771/55771 [==============================] - 2s 30us/sample - loss: 0.1131 - acc: 0.9658 - val_loss: 0.1479 - val_acc: 0.9600\n",
      "Epoch 15/30\n",
      "55771/55771 [==============================] - 2s 30us/sample - loss: 0.1031 - acc: 0.9683 - val_loss: 0.1437 - val_acc: 0.9597\n",
      "Epoch 16/30\n",
      "55771/55771 [==============================] - 2s 32us/sample - loss: 0.1017 - acc: 0.9686 - val_loss: 0.1701 - val_acc: 0.9567\n",
      "Epoch 17/30\n",
      "55771/55771 [==============================] - 2s 32us/sample - loss: 0.0978 - acc: 0.9694 - val_loss: 0.1591 - val_acc: 0.9592\n",
      "Epoch 18/30\n",
      "55771/55771 [==============================] - 2s 32us/sample - loss: 0.0973 - acc: 0.9703 - val_loss: 0.1630 - val_acc: 0.9550\n",
      "Epoch 19/30\n",
      "55771/55771 [==============================] - 2s 31us/sample - loss: 0.0928 - acc: 0.9713 - val_loss: 0.1471 - val_acc: 0.9617\n",
      "Epoch 20/30\n",
      "55771/55771 [==============================] - 2s 31us/sample - loss: 0.0941 - acc: 0.9711 - val_loss: 0.1341 - val_acc: 0.9629\n",
      "Epoch 21/30\n",
      "55771/55771 [==============================] - 2s 33us/sample - loss: 0.0900 - acc: 0.9723 - val_loss: 0.1630 - val_acc: 0.9566\n",
      "Epoch 22/30\n",
      "55771/55771 [==============================] - 2s 31us/sample - loss: 0.0862 - acc: 0.9729 - val_loss: 0.1436 - val_acc: 0.9620\n",
      "Epoch 23/30\n",
      "55771/55771 [==============================] - 2s 32us/sample - loss: 0.0875 - acc: 0.9726 - val_loss: 0.1360 - val_acc: 0.9645\n",
      "Epoch 24/30\n",
      "55771/55771 [==============================] - 2s 33us/sample - loss: 0.0864 - acc: 0.9725 - val_loss: 0.1538 - val_acc: 0.9589\n",
      "Epoch 25/30\n",
      "55771/55771 [==============================] - 2s 32us/sample - loss: 0.0856 - acc: 0.9735 - val_loss: 0.1408 - val_acc: 0.9631\n",
      "Epoch 26/30\n",
      "55771/55771 [==============================] - 2s 31us/sample - loss: 0.0832 - acc: 0.9731 - val_loss: 0.1470 - val_acc: 0.9613\n",
      "Epoch 27/30\n",
      "55771/55771 [==============================] - 2s 32us/sample - loss: 0.0772 - acc: 0.9756 - val_loss: 0.1517 - val_acc: 0.9625\n",
      "Epoch 28/30\n",
      "55771/55771 [==============================] - 2s 32us/sample - loss: 0.0804 - acc: 0.9747 - val_loss: 0.1656 - val_acc: 0.9586\n",
      "Epoch 29/30\n",
      "55771/55771 [==============================] - 2s 31us/sample - loss: 0.0792 - acc: 0.9744 - val_loss: 0.1665 - val_acc: 0.9583\n",
      "Epoch 30/30\n",
      "55771/55771 [==============================] - 2s 31us/sample - loss: 0.0780 - acc: 0.9754 - val_loss: 0.1515 - val_acc: 0.9629\n",
      "test loss:  0.15146434169705025\n",
      "test accuracy:  0.9629\n"
     ]
    }
   ],
   "metadata": {}
  },
  {
   "cell_type": "code",
   "execution_count": 18,
   "source": [
    "plt.plot(aug_history.history['acc'])\n",
    "plt.plot(aug_history.history['val_acc'])\n",
    "plt.title('model accuracy')\n",
    "plt.ylabel('accuracy')\n",
    "plt.xlabel('epoch')\n",
    "plt.legend(['train', 'test'], loc='upper left')\n",
    "plt.show()\n",
    "plt.plot(aug_history.history['loss'])\n",
    "plt.plot(aug_history.history['val_loss'])\n",
    "plt.title('model loss')\n",
    "plt.ylabel('loss')\n",
    "plt.xlabel('epoch')\n",
    "plt.legend(['train', 'test'], loc='upper left')\n",
    "plt.show()"
   ],
   "outputs": [
    {
     "output_type": "display_data",
     "data": {
      "image/png": "[encoded data removed]",
      "text/plain": [
       "<Figure size 432x288 with 1 Axes>"
      ]
     },
     "metadata": {
      "needs_background": "light"
     }
    },
    {
     "output_type": "display_data",
     "data": {
      "image/png": "[encoded data removed]",
      "text/plain": [
       "<Figure size 432x288 with 1 Axes>"
      ]
     },
     "metadata": {
      "needs_background": "light"
     }
    }
   ],
   "metadata": {}
  },
  {
   "cell_type": "code",
   "execution_count": 19,
   "source": [
    "y_pred_aug_oh = bl_model.predict(test_images)\n",
    "y_pred_aug = y_pred_aug_oh.argmax(axis=-1)\n",
    "print('MLP classification Augmented \\n', classification_report(test_labels, y_pred_aug))"
   ],
   "outputs": [
    {
     "output_type": "stream",
     "name": "stdout",
     "text": [
      "MLP classification Augmented \n",
      "               precision    recall  f1-score   support\n",
      "\n",
      "           0       0.99      0.84      0.91       980\n",
      "           1       0.99      0.88      0.93      1135\n",
      "           2       0.94      0.97      0.95      1032\n",
      "           3       0.95      0.97      0.96      1010\n",
      "           4       0.96      0.97      0.96       982\n",
      "           5       0.96      0.97      0.96       892\n",
      "           6       0.94      0.98      0.96       958\n",
      "           7       0.94      0.97      0.96      1028\n",
      "           8       0.87      0.97      0.92       974\n",
      "           9       0.94      0.96      0.95      1009\n",
      "\n",
      "    accuracy                           0.95     10000\n",
      "   macro avg       0.95      0.95      0.95     10000\n",
      "weighted avg       0.95      0.95      0.95     10000\n",
      "\n"
     ]
    }
   ],
   "metadata": {}
  },
  {
   "cell_type": "code",
   "execution_count": 20,
   "source": [
    "print(X.shape)\n",
    "print(Y_oh.shape)"
   ],
   "outputs": [
    {
     "output_type": "stream",
     "name": "stdout",
     "text": [
      "(55771, 784)\n",
      "(55771, 10)\n"
     ]
    }
   ],
   "metadata": {}
  },
  {
   "cell_type": "code",
   "execution_count": 21,
   "source": [
    "print(train_x.shape)\n",
    "print(train_y.shape)"
   ],
   "outputs": [
    {
     "output_type": "stream",
     "name": "stdout",
     "text": [
      "(47835, 784)\n",
      "(47835, 10)\n"
     ]
    }
   ],
   "metadata": {}
  }
 ],
 "metadata": {
  "kernelspec": {
   "name": "python3",
   "display_name": "Python 3.8.10 64-bit ('imbalance_venv': venv)"
  },
  "language_info": {
   "codemirror_mode": {
    "name": "ipython",
    "version": 3
   },
   "file_extension": ".py",
   "mimetype": "text/x-python",
   "name": "python",
   "nbconvert_exporter": "python",
   "pygments_lexer": "ipython3",
   "version": "3.8.10"
  },
  "interpreter": {
   "hash": "4726aa8c3a011139ee9eae324612f94ded5d9a6c6a3363e2331a9b86c3055c02"
  }
 },
 "nbformat": 4,
 "nbformat_minor": 5
}