{
 "cells": [
  {
   "cell_type": "code",
   "execution_count": 1,
   "id": "c0c34b2f",
   "metadata": {},
   "outputs": [],
   "source": [
    "import tensorflow as tf\n",
    "import numpy as np \n",
    "import pandas as pd\n",
    "import matplotlib.pyplot as plt\n",
    "from sklearn.model_selection import train_test_split\n",
    "import cv2"
   ]
  },
  {
   "cell_type": "markdown",
   "id": "6c343cf9",
   "metadata": {},
   "source": [
    "## Optical digits"
   ]
  },
  {
   "cell_type": "code",
   "execution_count": 2,
   "id": "521c35e0",
   "metadata": {},
   "outputs": [],
   "source": [
    "train_file = './uci_repos/optical_digits/optdigits.tra'\n",
    "test_file = './uci_repos/optical_digits/optdigits.tes'\n",
    "column = ['pixel_'+str(i) for i in range(64)]\n",
    "column.append('digit_label')\n",
    "train_data = pd.read_csv(train_file, sep=',', header=None, names=column)\n",
    "test_data = pd.read_csv(test_file, sep=',', header=None, names=column)"
   ]
  },
  {
   "cell_type": "code",
   "execution_count": 3,
   "id": "336d550e",
   "metadata": {},
   "outputs": [
    {
     "data": {
      "text/html": [
       "<div>\n",
       "<style scoped>\n",
       "    .dataframe tbody tr th:only-of-type {\n",
       "        vertical-align: middle;\n",
       "    }\n",
       "\n",
       "    .dataframe tbody tr th {\n",
       "        vertical-align: top;\n",
       "    }\n",
       "\n",
       "    .dataframe thead th {\n",
       "        text-align: right;\n",
       "    }\n",
       "</style>\n",
       "<table border=\"1\" class=\"dataframe\">\n",
       "  <thead>\n",
       "    <tr style=\"text-align: right;\">\n",
       "      <th></th>\n",
       "      <th>pixel_0</th>\n",
       "      <th>pixel_1</th>\n",
       "      <th>pixel_2</th>\n",
       "      <th>pixel_3</th>\n",
       "      <th>pixel_4</th>\n",
       "      <th>pixel_5</th>\n",
       "      <th>pixel_6</th>\n",
       "      <th>pixel_7</th>\n",
       "      <th>pixel_8</th>\n",
       "      <th>pixel_9</th>\n",
       "      <th>...</th>\n",
       "      <th>pixel_55</th>\n",
       "      <th>pixel_56</th>\n",
       "      <th>pixel_57</th>\n",
       "      <th>pixel_58</th>\n",
       "      <th>pixel_59</th>\n",
       "      <th>pixel_60</th>\n",
       "      <th>pixel_61</th>\n",
       "      <th>pixel_62</th>\n",
       "      <th>pixel_63</th>\n",
       "      <th>digit_label</th>\n",
       "    </tr>\n",
       "  </thead>\n",
       "  <tbody>\n",
       "    <tr>\n",
       "      <th>0</th>\n",
       "      <td>0</td>\n",
       "      <td>0</td>\n",
       "      <td>5</td>\n",
       "      <td>13</td>\n",
       "      <td>9</td>\n",
       "      <td>1</td>\n",
       "      <td>0</td>\n",
       "      <td>0</td>\n",
       "      <td>0</td>\n",
       "      <td>0</td>\n",
       "      <td>...</td>\n",
       "      <td>0</td>\n",
       "      <td>0</td>\n",
       "      <td>0</td>\n",
       "      <td>6</td>\n",
       "      <td>13</td>\n",
       "      <td>10</td>\n",
       "      <td>0</td>\n",
       "      <td>0</td>\n",
       "      <td>0</td>\n",
       "      <td>0</td>\n",
       "    </tr>\n",
       "    <tr>\n",
       "      <th>1</th>\n",
       "      <td>0</td>\n",
       "      <td>0</td>\n",
       "      <td>0</td>\n",
       "      <td>12</td>\n",
       "      <td>13</td>\n",
       "      <td>5</td>\n",
       "      <td>0</td>\n",
       "      <td>0</td>\n",
       "      <td>0</td>\n",
       "      <td>0</td>\n",
       "      <td>...</td>\n",
       "      <td>0</td>\n",
       "      <td>0</td>\n",
       "      <td>0</td>\n",
       "      <td>0</td>\n",
       "      <td>11</td>\n",
       "      <td>16</td>\n",
       "      <td>10</td>\n",
       "      <td>0</td>\n",
       "      <td>0</td>\n",
       "      <td>1</td>\n",
       "    </tr>\n",
       "    <tr>\n",
       "      <th>2</th>\n",
       "      <td>0</td>\n",
       "      <td>0</td>\n",
       "      <td>0</td>\n",
       "      <td>4</td>\n",
       "      <td>15</td>\n",
       "      <td>12</td>\n",
       "      <td>0</td>\n",
       "      <td>0</td>\n",
       "      <td>0</td>\n",
       "      <td>0</td>\n",
       "      <td>...</td>\n",
       "      <td>0</td>\n",
       "      <td>0</td>\n",
       "      <td>0</td>\n",
       "      <td>0</td>\n",
       "      <td>3</td>\n",
       "      <td>11</td>\n",
       "      <td>16</td>\n",
       "      <td>9</td>\n",
       "      <td>0</td>\n",
       "      <td>2</td>\n",
       "    </tr>\n",
       "    <tr>\n",
       "      <th>3</th>\n",
       "      <td>0</td>\n",
       "      <td>0</td>\n",
       "      <td>7</td>\n",
       "      <td>15</td>\n",
       "      <td>13</td>\n",
       "      <td>1</td>\n",
       "      <td>0</td>\n",
       "      <td>0</td>\n",
       "      <td>0</td>\n",
       "      <td>8</td>\n",
       "      <td>...</td>\n",
       "      <td>0</td>\n",
       "      <td>0</td>\n",
       "      <td>0</td>\n",
       "      <td>7</td>\n",
       "      <td>13</td>\n",
       "      <td>13</td>\n",
       "      <td>9</td>\n",
       "      <td>0</td>\n",
       "      <td>0</td>\n",
       "      <td>3</td>\n",
       "    </tr>\n",
       "    <tr>\n",
       "      <th>4</th>\n",
       "      <td>0</td>\n",
       "      <td>0</td>\n",
       "      <td>0</td>\n",
       "      <td>1</td>\n",
       "      <td>11</td>\n",
       "      <td>0</td>\n",
       "      <td>0</td>\n",
       "      <td>0</td>\n",
       "      <td>0</td>\n",
       "      <td>0</td>\n",
       "      <td>...</td>\n",
       "      <td>0</td>\n",
       "      <td>0</td>\n",
       "      <td>0</td>\n",
       "      <td>0</td>\n",
       "      <td>2</td>\n",
       "      <td>16</td>\n",
       "      <td>4</td>\n",
       "      <td>0</td>\n",
       "      <td>0</td>\n",
       "      <td>4</td>\n",
       "    </tr>\n",
       "  </tbody>\n",
       "</table>\n",
       "<p>5 rows × 65 columns</p>\n",
       "</div>"
      ],
      "text/plain": [
       "   pixel_0  pixel_1  pixel_2  pixel_3  pixel_4  pixel_5  pixel_6  pixel_7  \\\n",
       "0        0        0        5       13        9        1        0        0   \n",
       "1        0        0        0       12       13        5        0        0   \n",
       "2        0        0        0        4       15       12        0        0   \n",
       "3        0        0        7       15       13        1        0        0   \n",
       "4        0        0        0        1       11        0        0        0   \n",
       "\n",
       "   pixel_8  pixel_9  ...  pixel_55  pixel_56  pixel_57  pixel_58  pixel_59  \\\n",
       "0        0        0  ...         0         0         0         6        13   \n",
       "1        0        0  ...         0         0         0         0        11   \n",
       "2        0        0  ...         0         0         0         0         3   \n",
       "3        0        8  ...         0         0         0         7        13   \n",
       "4        0        0  ...         0         0         0         0         2   \n",
       "\n",
       "   pixel_60  pixel_61  pixel_62  pixel_63  digit_label  \n",
       "0        10         0         0         0            0  \n",
       "1        16        10         0         0            1  \n",
       "2        11        16         9         0            2  \n",
       "3        13         9         0         0            3  \n",
       "4        16         4         0         0            4  \n",
       "\n",
       "[5 rows x 65 columns]"
      ]
     },
     "execution_count": 3,
     "metadata": {},
     "output_type": "execute_result"
    }
   ],
   "source": [
    "test_data.head()"
   ]
  },
  {
   "cell_type": "code",
   "execution_count": 4,
   "id": "0639d2d2",
   "metadata": {},
   "outputs": [],
   "source": [
    "train_y = train_data.iloc[:,-1:].copy().to_numpy()\n",
    "train_images = train_data.iloc[:, 0:-1].copy().to_numpy()\n",
    "test_y = test_data.iloc[:,-1:].copy().to_numpy()\n",
    "test_images = test_data.iloc[:, 0:-1].copy().to_numpy()"
   ]
  },
  {
   "cell_type": "code",
   "execution_count": 5,
   "id": "779e9351",
   "metadata": {},
   "outputs": [
    {
     "data": {
      "text/plain": [
       "array([0, 1, 2, 3, 4, 5, 6, 7, 8, 9])"
      ]
     },
     "execution_count": 5,
     "metadata": {},
     "output_type": "execute_result"
    }
   ],
   "source": [
    "np.unique(test_y)"
   ]
  },
  {
   "cell_type": "code",
   "execution_count": 6,
   "id": "3d440b2d",
   "metadata": {},
   "outputs": [
    {
     "name": "stdout",
     "output_type": "stream",
     "text": [
      "train image size :  (3823, 64)\n",
      "train y size :  (3823, 10)\n",
      "test image size :  (1797, 64)\n",
      "test y size :  (1797, 10)\n",
      "sample y : [1. 0. 0. 0. 0. 0. 0. 0. 0. 0.]\n"
     ]
    },
    {
     "data": {
      "text/plain": [
       "<matplotlib.image.AxesImage at 0x7fdbb5722190>"
      ]
     },
     "execution_count": 6,
     "metadata": {},
     "output_type": "execute_result"
    },
    {
     "data": {
      "image/png": "[encoded data removed]",
      "text/plain": [
       "<Figure size 432x288 with 1 Axes>"
      ]
     },
     "metadata": {
      "needs_background": "light"
     },
     "output_type": "display_data"
    }
   ],
   "source": [
    "#train_images = [np.reshape(x, (8,8, 1)) for x in train_images ]\n",
    "train_images = np.array(train_images).astype(np.float32) / 16.0\n",
    "#test_images = [np.reshape(x, (8,8, 1)) for x in test_images ]\n",
    "test_images = np.array(test_images).astype(np.float32) / 16.0\n",
    "\n",
    "train_y = tf.keras.utils.to_categorical(train_y, num_classes=10, dtype='float32')\n",
    "test_y = tf.keras.utils.to_categorical(test_y, num_classes=10, dtype='float32')\n",
    "print('train image size : ', train_images.shape)\n",
    "print('train y size : ', train_y.shape)\n",
    "print('test image size : ', test_images.shape)\n",
    "print('test y size : ', test_y.shape)\n",
    "print('sample y :', train_y[0])\n",
    "plt.imshow(np.reshape(train_images[100],(8,8)), cmap=plt.cm.gray_r, interpolation='nearest')"
   ]
  },
  {
   "cell_type": "markdown",
   "id": "f0ce0ea4",
   "metadata": {},
   "source": [
    "### VAE"
   ]
  },
  {
   "cell_type": "code",
   "execution_count": 7,
   "id": "3d4630d1",
   "metadata": {},
   "outputs": [
    {
     "name": "stdout",
     "output_type": "stream",
     "text": [
      "WARNING:tensorflow:From /media/adamu/data/projects/notebooks/UCI_encoders/imbalance_venv/lib/python3.8/site-packages/tensorflow/python/compat/v2_compat.py:101: disable_resource_variables (from tensorflow.python.ops.variable_scope) is deprecated and will be removed in a future version.\n",
      "Instructions for updating:\n",
      "non-resource variables are not supported in the long term\n"
     ]
    },
    {
     "name": "stderr",
     "output_type": "stream",
     "text": [
      "2021-09-20 16:31:20.800386: I tensorflow/stream_executor/cuda/cuda_gpu_executor.cc:937] successful NUMA node read from SysFS had negative value (-1), but there must be at least one NUMA node, so returning NUMA node zero\n",
      "2021-09-20 16:31:20.832884: W tensorflow/stream_executor/platform/default/dso_loader.cc:64] Could not load dynamic library 'libcusolver.so.11'; dlerror: libcusolver.so.11: cannot open shared object file: No such file or directory\n",
      "2021-09-20 16:31:20.839453: W tensorflow/core/common_runtime/gpu/gpu_device.cc:1835] Cannot dlopen some GPU libraries. Please make sure the missing libraries mentioned above are installed properly if you would like to use GPU. Follow the guide at https://www.tensorflow.org/install/gpu for how to download and setup the required libraries for your platform.\n",
      "Skipping registering GPU devices...\n",
      "2021-09-20 16:31:20.840805: I tensorflow/core/platform/cpu_feature_guard.cc:142] This TensorFlow binary is optimized with oneAPI Deep Neural Network Library (oneDNN) to use the following CPU instructions in performance-critical operations:  AVX2 FMA\n",
      "To enable them in other operations, rebuild TensorFlow with the appropriate compiler flags.\n"
     ]
    },
    {
     "name": "stdout",
     "output_type": "stream",
     "text": [
      "Iter: 0\n",
      "Loss: 8.1e+01\n",
      "\n",
      "Iter: 1000\n",
      "Loss: 2.2e+01\n",
      "\n",
      "Iter: 2000\n",
      "Loss: 2.2e+01\n",
      "\n",
      "Iter: 3000\n",
      "Loss: 2.2e+01\n",
      "\n",
      "Iter: 4000\n",
      "Loss: 2.1e+01\n",
      "\n",
      "Iter: 5000\n",
      "Loss: 2.2e+01\n",
      "\n",
      "Iter: 6000\n",
      "Loss: 2.2e+01\n",
      "\n",
      "Iter: 7000\n",
      "Loss: 2.2e+01\n",
      "\n",
      "Iter: 8000\n",
      "Loss: 2.2e+01\n",
      "\n",
      "Iter: 9000\n",
      "Loss: 2.1e+01\n",
      "\n",
      "Iter: 10000\n",
      "Loss: 2.2e+01\n",
      "\n",
      "Iter: 11000\n",
      "Loss: 2.1e+01\n",
      "\n",
      "Iter: 12000\n",
      "Loss: 2e+01\n",
      "\n",
      "Iter: 13000\n",
      "Loss: 2.1e+01\n",
      "\n",
      "Iter: 14000\n",
      "Loss: 2.1e+01\n",
      "\n",
      "Iter: 15000\n",
      "Loss: 2.1e+01\n",
      "\n",
      "Iter: 16000\n",
      "Loss: 2.1e+01\n",
      "\n",
      "Iter: 17000\n",
      "Loss: 2.1e+01\n",
      "\n",
      "Iter: 18000\n",
      "Loss: 2.1e+01\n",
      "\n",
      "Iter: 19000\n",
      "Loss: 2e+01\n",
      "\n",
      "Iter: 20000\n",
      "Loss: 2.1e+01\n",
      "\n",
      "Iter: 21000\n",
      "Loss: 2.1e+01\n",
      "\n",
      "Iter: 22000\n",
      "Loss: 2e+01\n",
      "\n",
      "Iter: 23000\n",
      "Loss: 2e+01\n",
      "\n",
      "Iter: 24000\n",
      "Loss: 2.1e+01\n",
      "\n",
      "Iter: 25000\n",
      "Loss: 2e+01\n",
      "\n",
      "Iter: 26000\n",
      "Loss: 2e+01\n",
      "\n",
      "Iter: 27000\n",
      "Loss: 2.1e+01\n",
      "\n",
      "Iter: 28000\n",
      "Loss: 2.1e+01\n",
      "\n",
      "Iter: 29000\n",
      "Loss: 2.1e+01\n",
      "\n",
      "Iter: 30000\n",
      "Loss: 2e+01\n",
      "\n",
      "Iter: 31000\n",
      "Loss: 2.1e+01\n",
      "\n",
      "Iter: 32000\n",
      "Loss: 2e+01\n",
      "\n",
      "Iter: 33000\n",
      "Loss: 2.1e+01\n",
      "\n",
      "Iter: 34000\n",
      "Loss: 2.1e+01\n",
      "\n",
      "Iter: 35000\n",
      "Loss: 2e+01\n",
      "\n",
      "Iter: 36000\n",
      "Loss: 2.1e+01\n",
      "\n",
      "Iter: 37000\n",
      "Loss: 2.1e+01\n",
      "\n",
      "Iter: 38000\n",
      "Loss: 2.1e+01\n",
      "\n",
      "Iter: 39000\n",
      "Loss: 2.1e+01\n",
      "\n",
      "Iter: 40000\n",
      "Loss: 2.1e+01\n",
      "\n",
      "Iter: 41000\n",
      "Loss: 2e+01\n",
      "\n",
      "Iter: 42000\n",
      "Loss: 2e+01\n",
      "\n",
      "Iter: 43000\n",
      "Loss: 2.1e+01\n",
      "\n",
      "Iter: 44000\n",
      "Loss: 2e+01\n",
      "\n",
      "Iter: 45000\n",
      "Loss: 2e+01\n",
      "\n",
      "Iter: 46000\n",
      "Loss: 2e+01\n",
      "\n",
      "Iter: 47000\n",
      "Loss: 2e+01\n",
      "\n",
      "Iter: 48000\n",
      "Loss: 2.1e+01\n",
      "\n",
      "Iter: 49000\n",
      "Loss: 2.1e+01\n",
      "\n",
      "Iter: 50000\n",
      "Loss: 2e+01\n",
      "\n",
      "Iter: 51000\n",
      "Loss: 2.1e+01\n",
      "\n",
      "Iter: 52000\n",
      "Loss: 2.1e+01\n",
      "\n",
      "Iter: 53000\n",
      "Loss: 2.1e+01\n",
      "\n",
      "Iter: 54000\n",
      "Loss: 2.1e+01\n",
      "\n",
      "Iter: 55000\n",
      "Loss: 2.1e+01\n",
      "\n",
      "Iter: 56000\n",
      "Loss: 2e+01\n",
      "\n",
      "Iter: 57000\n",
      "Loss: 2e+01\n",
      "\n",
      "Iter: 58000\n",
      "Loss: 2.1e+01\n",
      "\n",
      "Iter: 59000\n",
      "Loss: 2.1e+01\n",
      "\n",
      "Iter: 60000\n",
      "Loss: 2e+01\n",
      "\n",
      "Iter: 61000\n",
      "Loss: 2e+01\n",
      "\n",
      "Iter: 62000\n",
      "Loss: 2e+01\n",
      "\n",
      "Iter: 63000\n",
      "Loss: 2.1e+01\n",
      "\n",
      "Iter: 64000\n",
      "Loss: 2e+01\n",
      "\n",
      "Iter: 65000\n",
      "Loss: 2e+01\n",
      "\n",
      "Iter: 66000\n",
      "Loss: 2.1e+01\n",
      "\n",
      "Iter: 67000\n",
      "Loss: 2e+01\n",
      "\n",
      "Iter: 68000\n",
      "Loss: 2.1e+01\n",
      "\n",
      "Iter: 69000\n",
      "Loss: 2.1e+01\n",
      "\n",
      "Iter: 70000\n",
      "Loss: 2.1e+01\n",
      "\n",
      "Iter: 71000\n",
      "Loss: 2e+01\n",
      "\n",
      "Iter: 72000\n",
      "Loss: 2e+01\n",
      "\n",
      "Iter: 73000\n",
      "Loss: 2e+01\n",
      "\n",
      "Iter: 74000\n",
      "Loss: 2e+01\n",
      "\n",
      "Iter: 75000\n",
      "Loss: 2e+01\n",
      "\n",
      "Iter: 76000\n",
      "Loss: 2e+01\n",
      "\n",
      "Iter: 77000\n",
      "Loss: 2e+01\n",
      "\n",
      "Iter: 78000\n",
      "Loss: 2e+01\n",
      "\n",
      "Iter: 79000\n",
      "Loss: 2e+01\n",
      "\n",
      "Iter: 80000\n",
      "Loss: 2e+01\n",
      "\n",
      "Iter: 81000\n",
      "Loss: 2.1e+01\n",
      "\n",
      "Iter: 82000\n",
      "Loss: 2.1e+01\n",
      "\n",
      "Iter: 83000\n",
      "Loss: 2.1e+01\n",
      "\n",
      "Iter: 84000\n",
      "Loss: 2e+01\n",
      "\n",
      "Iter: 85000\n",
      "Loss: 2.1e+01\n",
      "\n",
      "Iter: 86000\n",
      "Loss: 2e+01\n",
      "\n",
      "Iter: 87000\n",
      "Loss: 2e+01\n",
      "\n",
      "Iter: 88000\n",
      "Loss: 2e+01\n",
      "\n",
      "Iter: 89000\n",
      "Loss: 2.1e+01\n",
      "\n",
      "Iter: 90000\n",
      "Loss: 2e+01\n",
      "\n",
      "Iter: 91000\n",
      "Loss: 2e+01\n",
      "\n",
      "Iter: 92000\n",
      "Loss: 2e+01\n",
      "\n",
      "Iter: 93000\n",
      "Loss: 2e+01\n",
      "\n",
      "Iter: 94000\n",
      "Loss: 2e+01\n",
      "\n",
      "Iter: 95000\n",
      "Loss: 2e+01\n",
      "\n",
      "Iter: 96000\n",
      "Loss: 2.1e+01\n",
      "\n",
      "Iter: 97000\n",
      "Loss: 2.1e+01\n",
      "\n",
      "Iter: 98000\n",
      "Loss: 2e+01\n",
      "\n",
      "Iter: 99000\n",
      "Loss: 2e+01\n",
      "\n"
     ]
    }
   ],
   "source": [
    "import tensorflow.compat.v1  as tf\n",
    "tf.disable_v2_behavior()\n",
    "from matplotlib import pyplot as plt\n",
    "import matplotlib.gridspec as gridspec\n",
    "import os\n",
    "import numpy as np\n",
    "\n",
    "mb_size = 64\n",
    "z_dim = 100\n",
    "X_dim = 64\n",
    "y_dim = 10\n",
    "h_dim = 128\n",
    "lr = 1e-3\n",
    "\n",
    "\n",
    "def plot(samples):\n",
    "    fig = plt.figure(figsize=(8, 8))\n",
    "    gs = gridspec.GridSpec(8, 8)\n",
    "    gs.update(wspace=0.05, hspace=0.05)\n",
    "\n",
    "    for i, sample in enumerate(samples):\n",
    "        ax = plt.subplot(gs[i])\n",
    "        plt.axis('off')\n",
    "        ax.set_xticklabels([])\n",
    "        ax.set_yticklabels([])\n",
    "        ax.set_aspect('equal')\n",
    "        plt.imshow(sample.reshape(8, 8), cmap='Greys_r')\n",
    "\n",
    "    return fig\n",
    "\n",
    "\n",
    "def xavier_init(size):\n",
    "    in_dim = size[0]\n",
    "    xavier_stddev = 1. / tf.sqrt(in_dim / 2.)\n",
    "    return tf.random.normal(shape=size, stddev=xavier_stddev)\n",
    "\n",
    "\n",
    "# Q(z|X) \n",
    "\n",
    "X = tf.keras.Input(shape=(X_dim,))\n",
    "c = tf.keras.Input(shape=(y_dim,))\n",
    "z = tf.keras.Input(shape=(z_dim,))\n",
    "\n",
    "Q_W1 = tf.Variable(xavier_init([X_dim + y_dim, h_dim]))\n",
    "Q_b1 = tf.Variable(tf.zeros(shape=[h_dim]))\n",
    "\n",
    "Q_W2_mu = tf.Variable(xavier_init([h_dim, z_dim]))\n",
    "Q_b2_mu = tf.Variable(tf.zeros(shape=[z_dim]))\n",
    "\n",
    "Q_W2_sigma = tf.Variable(xavier_init([h_dim, z_dim]))\n",
    "Q_b2_sigma = tf.Variable(tf.zeros(shape=[z_dim]))\n",
    "\n",
    "\n",
    "def Q(X, c):\n",
    "    inputs = tf.concat(axis=1, values=[X, c])\n",
    "    h = tf.nn.relu(tf.matmul(inputs, Q_W1) + Q_b1)\n",
    "    z_mu = tf.matmul(h, Q_W2_mu) + Q_b2_mu\n",
    "    z_logvar = tf.matmul(h, Q_W2_sigma) + Q_b2_sigma\n",
    "    return z_mu, z_logvar\n",
    "\n",
    "\n",
    "def sample_z(mu, log_var):\n",
    "    eps = tf.random.normal(shape=tf.shape(mu))\n",
    "    return mu + tf.exp(log_var / 2) * eps\n",
    "\n",
    "\n",
    "# P(X|z)\n",
    "\n",
    "P_W1 = tf.Variable(xavier_init([z_dim + y_dim, h_dim]))\n",
    "P_b1 = tf.Variable(tf.zeros(shape=[h_dim]))\n",
    "\n",
    "P_W2 = tf.Variable(xavier_init([h_dim, X_dim]))\n",
    "P_b2 = tf.Variable(tf.zeros(shape=[X_dim]))\n",
    "\n",
    "\n",
    "def P(z, c):\n",
    "    inputs = tf.concat(axis=1, values=[z, c])\n",
    "    h = tf.nn.relu(tf.matmul(inputs, P_W1) + P_b1)\n",
    "    logits = tf.matmul(h, P_W2) + P_b2\n",
    "    prob = tf.nn.sigmoid(logits)\n",
    "    return prob, logits\n",
    "\n",
    "z_mu, z_logvar = Q(X, c)\n",
    "z_sample = sample_z(z_mu, z_logvar)\n",
    "_, logits = P(z_sample, c)\n",
    "\n",
    "# Sampling from random z\n",
    "X_samples, _ = P(z, c)\n",
    "\n",
    "# E[log P(X|z)]\n",
    "recon_loss = tf.reduce_sum(tf.nn.sigmoid_cross_entropy_with_logits(logits=logits, labels=X), 1)\n",
    "kl_loss = 0.5 * tf.reduce_sum(tf.exp(z_logvar) + z_mu**2 - 1. - z_logvar, 1)\n",
    "\n",
    "# VAE loss\n",
    "vae_loss = tf.reduce_mean(recon_loss + kl_loss)\n",
    "\n",
    "# gradient step\n",
    "solver = tf.compat.v1.train.AdamOptimizer().minimize(vae_loss)\n",
    "sess = tf.compat.v1.Session ()\n",
    "sess.run(\n",
    "tf.compat.v1.global_variables_initializer())\n",
    "\n",
    "if not os.path.exists('samples/'):\n",
    "    os.makedirs('samples/')\n",
    "\n",
    "i = 0\n",
    "\n",
    "for it in range(100000):\n",
    "    ind = np.random.choice(train_images.shape[0], mb_size)\n",
    "    X_mb = np.array(train_images[ind])\n",
    "    y_mb = np.array(train_y[ind])\n",
    "    \n",
    "    _, loss = sess.run([solver, vae_loss], feed_dict={X: X_mb, c: y_mb})\n",
    "\n",
    "    if it % 1000 == 0:\n",
    "        print('Iter: {}'.format(it))\n",
    "        print('Loss: {:.2}'. format(loss))\n",
    "        print()\n",
    "\n",
    "        y = np.zeros(shape=[64, y_dim])\n",
    "        y[:, np.random.randint(0, y_dim)] = 1.\n",
    "\n",
    "        samples = sess.run(X_samples,\n",
    "                           feed_dict={z: np.random.randn(64, z_dim), c: y})\n",
    "\n",
    "        fig = plot(samples)\n",
    "        plt.savefig('samples/{}.png'.format(str(i).zfill(3)), bbox_inches='tight')\n",
    "        i += 1\n",
    "        plt.close(fig)\n",
    "\n"
   ]
  },
  {
   "cell_type": "code",
   "execution_count": 8,
   "id": "6159d551",
   "metadata": {},
   "outputs": [],
   "source": [
    "### generating sample outputs after training\n",
    "samples = []\n",
    "gen_labels =[]\n",
    "for r in range(10):\n",
    "    for index in range(10):\n",
    "        gen_labels = gen_labels + [index]*64\n",
    "        y = np.zeros([mb_size, y_dim])\n",
    "        y[range(mb_size), index] = 1\n",
    "        samples.extend(sess.run(X_samples,\n",
    "                               feed_dict={z: np.random.randn(64, z_dim), c: y}))\n",
    "\n",
    "gen_samples = np.array(samples)\n",
    "gen_labels = np.array(gen_labels)"
   ]
  },
  {
   "cell_type": "code",
   "execution_count": 9,
   "id": "634a9601",
   "metadata": {},
   "outputs": [
    {
     "data": {
      "text/plain": [
       "((6400, 64), (6400,))"
      ]
     },
     "execution_count": 9,
     "metadata": {},
     "output_type": "execute_result"
    }
   ],
   "source": [
    "gen_samples.shape, gen_labels.shape"
   ]
  },
  {
   "cell_type": "code",
   "execution_count": 10,
   "id": "bd8559f3",
   "metadata": {},
   "outputs": [
    {
     "data": {
      "text/plain": [
       "array([1.7222977e-11, 2.1757185e-03, 2.9612523e-01, 8.3878410e-01,\n",
       "       6.0361630e-01, 1.0099074e-01, 1.3523698e-03, 3.4047559e-07,\n",
       "       5.8265395e-25, 9.1162026e-02, 8.5198128e-01, 8.1891137e-01,\n",
       "       7.5861585e-01, 6.1310613e-01, 2.8289467e-02, 1.6366903e-05,\n",
       "       1.1734277e-19, 2.8079912e-01, 8.9631152e-01, 2.5558442e-01,\n",
       "       1.9316033e-01, 7.9490685e-01, 1.8244934e-01, 9.9386190e-05,\n",
       "       4.2239124e-22, 3.5566106e-01, 8.1117821e-01, 7.7774584e-02,\n",
       "       2.0422906e-02, 5.7483554e-01, 4.2295396e-01, 1.1273197e-05,\n",
       "       3.8720616e-10, 4.3737295e-01, 8.0540490e-01, 4.1941643e-02,\n",
       "       1.1087775e-02, 4.9869877e-01, 4.9771443e-01, 1.7904280e-11,\n",
       "       4.4046047e-08, 2.6993269e-01, 8.7325299e-01, 6.2076300e-02,\n",
       "       3.8056850e-02, 6.5051734e-01, 4.6573162e-01, 8.2685174e-06,\n",
       "       8.2425595e-06, 5.2448630e-02, 8.4142536e-01, 6.0340798e-01,\n",
       "       6.0490954e-01, 9.0616459e-01, 1.9552082e-01, 7.9266676e-05,\n",
       "       1.1562824e-23, 9.0473890e-04, 2.6234663e-01, 8.6221576e-01,\n",
       "       8.8971770e-01, 4.1106242e-01, 1.3025343e-02, 5.7287321e-05],\n",
       "      dtype=float32)"
      ]
     },
     "execution_count": 10,
     "metadata": {},
     "output_type": "execute_result"
    }
   ],
   "source": [
    "gen_samples[0]"
   ]
  },
  {
   "cell_type": "code",
   "execution_count": 39,
   "id": "57cb2663",
   "metadata": {},
   "outputs": [
    {
     "name": "stdout",
     "output_type": "stream",
     "text": [
      "1\n"
     ]
    },
    {
     "data": {
      "text/plain": [
       "<matplotlib.image.AxesImage at 0x7fdab181fcd0>"
      ]
     },
     "execution_count": 39,
     "metadata": {},
     "output_type": "execute_result"
    },
    {
     "data": {
      "image/png": "[encoded data removed]",
      "text/plain": [
       "<Figure size 432x288 with 1 Axes>"
      ]
     },
     "metadata": {
      "needs_background": "light"
     },
     "output_type": "display_data"
    }
   ],
   "source": [
    "print(gen_labels[70])\n",
    "plt.imshow(np.reshape(gen_samples[70],(8,8)), cmap=plt.cm.gray_r, interpolation='nearest')"
   ]
  },
  {
   "cell_type": "code",
   "execution_count": 12,
   "id": "39b67807",
   "metadata": {},
   "outputs": [],
   "source": [
    "np.save('gen_data.npy', gen_samples)\n",
    "np.save('gen_labels.npy', gen_labels)"
   ]
  },
  {
   "cell_type": "markdown",
   "id": "22186505",
   "metadata": {},
   "source": [
    "# 1. Experimenting on original samples only with RF (Baseline)"
   ]
  },
  {
   "cell_type": "code",
   "execution_count": 13,
   "id": "2fe10281",
   "metadata": {},
   "outputs": [],
   "source": [
    "from sklearn.ensemble import RandomForestClassifier\n",
    "\n",
    "rf = RandomForestClassifier(max_depth=2, random_state=0)\n",
    "\n",
    "y_train = train_data.iloc[:,-1:].copy().to_numpy()\n",
    "x_train = train_data.iloc[:, 0:-1].copy().to_numpy()\n",
    "y_test = test_data.iloc[:,-1:].copy().to_numpy()\n",
    "x_test = test_data.iloc[:, 0:-1].copy().to_numpy()\n"
   ]
  },
  {
   "cell_type": "code",
   "execution_count": 14,
   "id": "4cdcff4f",
   "metadata": {},
   "outputs": [
    {
     "name": "stderr",
     "output_type": "stream",
     "text": [
      "/tmp/ipykernel_26606/147419484.py:1: DataConversionWarning: A column-vector y was passed when a 1d array was expected. Please change the shape of y to (n_samples,), for example using ravel().\n",
      "  rf.fit(x_train, y_train)\n"
     ]
    },
    {
     "data": {
      "text/plain": [
       "0.800222593210907"
      ]
     },
     "execution_count": 14,
     "metadata": {},
     "output_type": "execute_result"
    }
   ],
   "source": [
    "rf.fit(x_train, y_train)\n",
    "rf.score(x_test, y_test)"
   ]
  },
  {
   "cell_type": "code",
   "execution_count": 15,
   "id": "51b47b4a",
   "metadata": {},
   "outputs": [],
   "source": [
    "pred_y = rf.predict(x_test)"
   ]
  },
  {
   "cell_type": "code",
   "execution_count": 16,
   "id": "680de251",
   "metadata": {},
   "outputs": [
    {
     "name": "stdout",
     "output_type": "stream",
     "text": [
      "              precision    recall  f1-score   support\n",
      "\n",
      "           0       0.91      0.99      0.95       178\n",
      "           1       0.77      0.43      0.55       182\n",
      "           2       0.76      0.84      0.79       177\n",
      "           3       0.71      0.90      0.79       183\n",
      "           4       0.88      0.81      0.84       181\n",
      "           5       0.93      0.71      0.81       182\n",
      "           6       0.80      0.97      0.88       181\n",
      "           7       0.75      0.92      0.83       179\n",
      "           8       0.74      0.65      0.69       174\n",
      "           9       0.80      0.78      0.79       180\n",
      "\n",
      "    accuracy                           0.80      1797\n",
      "   macro avg       0.81      0.80      0.79      1797\n",
      "weighted avg       0.81      0.80      0.79      1797\n",
      "\n"
     ]
    }
   ],
   "source": [
    "from sklearn.metrics import classification_report\n",
    "print(classification_report(y_test, pred_y))"
   ]
  },
  {
   "cell_type": "code",
   "execution_count": 17,
   "id": "d2a38bc0",
   "metadata": {},
   "outputs": [
    {
     "data": {
      "text/plain": [
       "array([ 0,  0, 10, 16,  6,  0,  0,  0,  0,  7, 16,  8, 16,  5,  0,  0,  0,\n",
       "       11, 16,  0,  6, 14,  3,  0,  0, 12, 12,  0,  0, 11, 11,  0,  0, 12,\n",
       "       12,  0,  0,  8, 12,  0,  0,  7, 15,  1,  0, 13, 11,  0,  0,  0, 16,\n",
       "        8, 10, 15,  3,  0,  0,  0, 10, 16, 15,  3,  0,  0])"
      ]
     },
     "execution_count": 17,
     "metadata": {},
     "output_type": "execute_result"
    }
   ],
   "source": [
    "x_train[1]"
   ]
  },
  {
   "cell_type": "markdown",
   "id": "f9272360",
   "metadata": {},
   "source": [
    "## 2. Generated samples classification (only)"
   ]
  },
  {
   "cell_type": "code",
   "execution_count": 18,
   "id": "ee53e59e",
   "metadata": {},
   "outputs": [
    {
     "data": {
      "text/plain": [
       "0.98375"
      ]
     },
     "execution_count": 18,
     "metadata": {},
     "output_type": "execute_result"
    }
   ],
   "source": [
    "from sklearn.model_selection import train_test_split\n",
    "x_gentrain,x_gentest, y_gentrain, y_gentest = train_test_split(\n",
    "    gen_samples, gen_labels, test_size=0.25, random_state=42)\n",
    "\n",
    "\n",
    "rf1 = RandomForestClassifier(max_depth=2, random_state=0)\n",
    "rf1.fit(x_gentrain, y_gentrain)\n",
    "rf1.score(x_gentest, y_gentest)"
   ]
  },
  {
   "cell_type": "code",
   "execution_count": 19,
   "id": "569f34f1",
   "metadata": {},
   "outputs": [
    {
     "name": "stdout",
     "output_type": "stream",
     "text": [
      "              precision    recall  f1-score   support\n",
      "\n",
      "           0       1.00      1.00      1.00       164\n",
      "           1       1.00      0.95      0.97       180\n",
      "           2       0.98      0.99      0.98       150\n",
      "           3       0.99      1.00      1.00       171\n",
      "           4       1.00      0.94      0.97       142\n",
      "           5       1.00      0.97      0.99       154\n",
      "           6       0.97      1.00      0.99       167\n",
      "           7       0.99      0.99      0.99       155\n",
      "           8       1.00      0.99      1.00       159\n",
      "           9       0.91      1.00      0.95       158\n",
      "\n",
      "    accuracy                           0.98      1600\n",
      "   macro avg       0.98      0.98      0.98      1600\n",
      "weighted avg       0.98      0.98      0.98      1600\n",
      "\n"
     ]
    }
   ],
   "source": [
    "pred_ygen = rf1.predict(x_gentest)\n",
    "print(classification_report(y_gentest, pred_ygen))"
   ]
  },
  {
   "cell_type": "markdown",
   "id": "6f4d9855",
   "metadata": {},
   "source": [
    "## Discussion (Why High Accuracy)"
   ]
  },
  {
   "cell_type": "markdown",
   "id": "36cdb212",
   "metadata": {},
   "source": [
    "The classification result on generated samples appeared higher by over 18 %. Next we try to normalize pixels before classification just to cverify that the results are not affected by the pixel values.\n"
   ]
  },
  {
   "cell_type": "code",
   "execution_count": 20,
   "id": "25586451",
   "metadata": {},
   "outputs": [],
   "source": [
    "# normiziling pixel between 0..16 similar to the original data.\n",
    "norm_xtrain = (16*(x_gentrain - np.min(x_gentrain))/np.ptp(x_gentrain)).astype(int) \n",
    "norm_xtest = (16*(x_gentest - np.min(x_gentest))/np.ptp(x_gentest)).astype(int) "
   ]
  },
  {
   "cell_type": "code",
   "execution_count": 47,
   "id": "d56bbf60",
   "metadata": {},
   "outputs": [
    {
     "name": "stdout",
     "output_type": "stream",
     "text": [
      "5\n"
     ]
    },
    {
     "data": {
      "text/plain": [
       "<matplotlib.image.AxesImage at 0x7fdab150f700>"
      ]
     },
     "execution_count": 47,
     "metadata": {},
     "output_type": "execute_result"
    },
    {
     "data": {
      "image/png": "[encoded data removed]",
      "text/plain": [
       "<Figure size 432x288 with 1 Axes>"
      ]
     },
     "metadata": {
      "needs_background": "light"
     },
     "output_type": "display_data"
    }
   ],
   "source": [
    "print(y_gentrain[1008])\n",
    "plt.imshow(np.reshape(norm_xtrain[1008],(8,8)), cmap=plt.cm.gray_r, interpolation='nearest')"
   ]
  },
  {
   "cell_type": "code",
   "execution_count": 22,
   "id": "9bc30212",
   "metadata": {},
   "outputs": [
    {
     "data": {
      "text/plain": [
       "0.978125"
      ]
     },
     "execution_count": 22,
     "metadata": {},
     "output_type": "execute_result"
    }
   ],
   "source": [
    "rf2 = RandomForestClassifier(max_depth=2, random_state=0)\n",
    "rf2.fit(norm_xtrain, y_gentrain)\n",
    "rf2.score(norm_xtest, y_gentest)"
   ]
  },
  {
   "cell_type": "code",
   "execution_count": 23,
   "id": "f21966e9",
   "metadata": {},
   "outputs": [
    {
     "name": "stdout",
     "output_type": "stream",
     "text": [
      "              precision    recall  f1-score   support\n",
      "\n",
      "           0       1.00      1.00      1.00       164\n",
      "           1       1.00      0.97      0.98       180\n",
      "           2       0.99      0.96      0.97       150\n",
      "           3       0.96      0.99      0.98       171\n",
      "           4       1.00      0.92      0.96       142\n",
      "           5       0.99      0.97      0.98       154\n",
      "           6       0.98      1.00      0.99       167\n",
      "           7       0.99      0.99      0.99       155\n",
      "           8       0.99      0.99      0.99       159\n",
      "           9       0.90      0.98      0.94       158\n",
      "\n",
      "    accuracy                           0.98      1600\n",
      "   macro avg       0.98      0.98      0.98      1600\n",
      "weighted avg       0.98      0.98      0.98      1600\n",
      "\n"
     ]
    }
   ],
   "source": [
    "pred_norm = rf2.predict(norm_xtest)\n",
    "print(classification_report(y_gentest, pred_norm))"
   ]
  },
  {
   "cell_type": "markdown",
   "id": "ba751d63",
   "metadata": {},
   "source": [
    "The results appeared unchanged. Thus, pixel values/norm had zero effect on the results."
   ]
  },
  {
   "cell_type": "markdown",
   "id": "6bb7c1c2",
   "metadata": {},
   "source": [
    "## 3.  Trained on real testing on generated"
   ]
  },
  {
   "cell_type": "code",
   "execution_count": 24,
   "id": "89c73130",
   "metadata": {},
   "outputs": [
    {
     "name": "stdout",
     "output_type": "stream",
     "text": [
      "test accuracy :  0.916875\n"
     ]
    }
   ],
   "source": [
    "print('test accuracy : ', rf.score(norm_xtest, y_gentest))"
   ]
  },
  {
   "cell_type": "code",
   "execution_count": 25,
   "id": "62a3544c",
   "metadata": {},
   "outputs": [
    {
     "name": "stdout",
     "output_type": "stream",
     "text": [
      "              precision    recall  f1-score   support\n",
      "\n",
      "           0       1.00      1.00      1.00       164\n",
      "           1       1.00      0.59      0.75       180\n",
      "           2       0.88      0.95      0.91       150\n",
      "           3       0.85      0.96      0.90       171\n",
      "           4       0.99      0.92      0.95       142\n",
      "           5       0.99      0.81      0.89       154\n",
      "           6       0.95      1.00      0.97       167\n",
      "           7       0.90      1.00      0.95       155\n",
      "           8       0.82      1.00      0.90       159\n",
      "           9       0.88      0.97      0.92       158\n",
      "\n",
      "    accuracy                           0.92      1600\n",
      "   macro avg       0.93      0.92      0.91      1600\n",
      "weighted avg       0.93      0.92      0.91      1600\n",
      "\n"
     ]
    }
   ],
   "source": [
    "pred_norm3 = rf.predict(norm_xtest)\n",
    "print(classification_report(y_gentest, pred_norm3))"
   ]
  },
  {
   "cell_type": "markdown",
   "id": "2ca9b172",
   "metadata": {},
   "source": [
    "## 4. Trained on generated --> testing on real"
   ]
  },
  {
   "cell_type": "code",
   "execution_count": 26,
   "id": "d6647a24",
   "metadata": {},
   "outputs": [
    {
     "name": "stdout",
     "output_type": "stream",
     "text": [
      "test accuracy :  0.7401224262659989\n"
     ]
    }
   ],
   "source": [
    "print('test accuracy : ', rf2.score(x_test, y_test))"
   ]
  },
  {
   "cell_type": "code",
   "execution_count": 27,
   "id": "336105dc",
   "metadata": {},
   "outputs": [
    {
     "name": "stdout",
     "output_type": "stream",
     "text": [
      "              precision    recall  f1-score   support\n",
      "\n",
      "           0       0.81      0.97      0.88       178\n",
      "           1       0.48      0.82      0.61       182\n",
      "           2       0.77      0.66      0.71       177\n",
      "           3       0.76      0.76      0.76       183\n",
      "           4       0.81      0.80      0.80       181\n",
      "           5       0.82      0.80      0.81       182\n",
      "           6       0.80      0.97      0.88       181\n",
      "           7       0.80      0.74      0.77       179\n",
      "           8       0.83      0.40      0.54       174\n",
      "           9       0.76      0.47      0.58       180\n",
      "\n",
      "    accuracy                           0.74      1797\n",
      "   macro avg       0.76      0.74      0.73      1797\n",
      "weighted avg       0.76      0.74      0.73      1797\n",
      "\n"
     ]
    }
   ],
   "source": [
    "pred_y4 = rf2.predict(x_test)\n",
    "print(classification_report(y_test, pred_y4))"
   ]
  },
  {
   "cell_type": "markdown",
   "id": "8eca444b",
   "metadata": {},
   "source": [
    "## Discussion "
   ]
  },
  {
   "cell_type": "markdown",
   "id": "bf9d2868",
   "metadata": {},
   "source": [
    "The results indicated that the original samples where more difficult to classify. Performances where both diminishing whether the model was trained on original or generated sample."
   ]
  },
  {
   "cell_type": "markdown",
   "id": "dcfbb365",
   "metadata": {},
   "source": [
    "## 5. Combine train from generated and real samples"
   ]
  },
  {
   "cell_type": "code",
   "execution_count": 28,
   "id": "95067355",
   "metadata": {},
   "outputs": [
    {
     "data": {
      "text/plain": [
       "RandomForestClassifier(max_depth=2, random_state=0)"
      ]
     },
     "execution_count": 28,
     "metadata": {},
     "output_type": "execute_result"
    }
   ],
   "source": [
    "X = np.concatenate([x_train, norm_xtrain])\n",
    "Y = np.concatenate([np.reshape(y_train, -1), y_gentrain])\n",
    "\n",
    "RF = RandomForestClassifier(max_depth=2, random_state=0)\n",
    "RF.fit(X, Y)"
   ]
  },
  {
   "cell_type": "code",
   "execution_count": 29,
   "id": "80c4c44b",
   "metadata": {},
   "outputs": [
    {
     "name": "stdout",
     "output_type": "stream",
     "text": [
      "Real test accuracy :  0.7941012799109627\n",
      "Generated accuracy :  0.9575\n"
     ]
    }
   ],
   "source": [
    "print('Real test accuracy : ', RF.score(x_test, y_test))\n",
    "print('Generated accuracy : ', RF.score(norm_xtest, y_gentest))"
   ]
  },
  {
   "cell_type": "code",
   "execution_count": 30,
   "id": "4906c2b9",
   "metadata": {},
   "outputs": [
    {
     "name": "stdout",
     "output_type": "stream",
     "text": [
      "real classification report\n",
      "               precision    recall  f1-score   support\n",
      "\n",
      "           0       0.88      0.98      0.93       178\n",
      "           1       0.80      0.38      0.51       182\n",
      "           2       0.68      0.90      0.78       177\n",
      "           3       0.74      0.91      0.81       183\n",
      "           4       0.83      0.83      0.83       181\n",
      "           5       0.86      0.84      0.85       182\n",
      "           6       0.78      0.97      0.87       181\n",
      "           7       0.82      0.91      0.86       179\n",
      "           8       0.79      0.50      0.61       174\n",
      "           9       0.80      0.71      0.75       180\n",
      "\n",
      "    accuracy                           0.79      1797\n",
      "   macro avg       0.80      0.79      0.78      1797\n",
      "weighted avg       0.80      0.79      0.78      1797\n",
      "\n"
     ]
    }
   ],
   "source": [
    "pred_y5 = RF.predict(x_test)\n",
    "print('real classification report\\n',classification_report(y_test, pred_y5))"
   ]
  },
  {
   "cell_type": "code",
   "execution_count": 31,
   "id": "920d6ad1",
   "metadata": {
    "scrolled": true
   },
   "outputs": [
    {
     "name": "stdout",
     "output_type": "stream",
     "text": [
      "generated classification report\n",
      "               precision    recall  f1-score   support\n",
      "\n",
      "           0       1.00      1.00      1.00       164\n",
      "           1       1.00      0.80      0.89       180\n",
      "           2       0.98      0.96      0.97       150\n",
      "           3       0.93      0.99      0.96       171\n",
      "           4       1.00      0.92      0.96       142\n",
      "           5       0.98      0.94      0.96       154\n",
      "           6       0.96      1.00      0.98       167\n",
      "           7       0.95      1.00      0.97       155\n",
      "           8       0.90      0.99      0.94       159\n",
      "           9       0.91      0.98      0.95       158\n",
      "\n",
      "    accuracy                           0.96      1600\n",
      "   macro avg       0.96      0.96      0.96      1600\n",
      "weighted avg       0.96      0.96      0.96      1600\n",
      "\n"
     ]
    }
   ],
   "source": [
    "pred_y5g = RF.predict(norm_xtest)\n",
    "print('generated classification report\\n',classification_report(y_gentest, pred_y5g))"
   ]
  },
  {
   "cell_type": "code",
   "execution_count": 32,
   "id": "b2819ede",
   "metadata": {},
   "outputs": [],
   "source": [
    "##combine test results\n",
    "x = np.concatenate([x_test, norm_xtest])\n",
    "y = np.concatenate([np.reshape(y_test, -1), y_gentest])"
   ]
  },
  {
   "cell_type": "code",
   "execution_count": 33,
   "id": "e9aa89fc",
   "metadata": {
    "scrolled": true
   },
   "outputs": [
    {
     "name": "stdout",
     "output_type": "stream",
     "text": [
      "Combined Accuracy :  0.8710627023844568\n",
      "Combined classification report\n",
      "               precision    recall  f1-score   support\n",
      "\n",
      "           0       0.94      0.99      0.96       342\n",
      "           1       0.93      0.59      0.72       362\n",
      "           2       0.80      0.93      0.86       327\n",
      "           3       0.82      0.95      0.88       354\n",
      "           4       0.90      0.87      0.89       323\n",
      "           5       0.91      0.89      0.90       336\n",
      "           6       0.86      0.99      0.92       348\n",
      "           7       0.88      0.95      0.91       334\n",
      "           8       0.86      0.73      0.79       333\n",
      "           9       0.86      0.83      0.85       338\n",
      "\n",
      "    accuracy                           0.87      3397\n",
      "   macro avg       0.87      0.87      0.87      3397\n",
      "weighted avg       0.87      0.87      0.87      3397\n",
      "\n"
     ]
    }
   ],
   "source": [
    "print('Combined Accuracy : ', RF.score(x, y))\n",
    "pred_y5c = RF.predict(x)\n",
    "print('Combined classification report\\n',classification_report(y, pred_y5c))"
   ]
  },
  {
   "cell_type": "code",
   "execution_count": null,
   "id": "02c3da7a",
   "metadata": {},
   "outputs": [],
   "source": []
  }
 ],
 "metadata": {
  "kernelspec": {
   "display_name": "Python 3 (ipykernel)",
   "language": "python",
   "name": "python3"
  },
  "language_info": {
   "codemirror_mode": {
    "name": "ipython",
    "version": 3
   },
   "file_extension": ".py",
   "mimetype": "text/x-python",
   "name": "python",
   "nbconvert_exporter": "python",
   "pygments_lexer": "ipython3",
   "version": "3.8.10"
  }
 },
 "nbformat": 4,
 "nbformat_minor": 5
}
